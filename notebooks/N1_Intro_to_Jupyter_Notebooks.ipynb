{
 "cells": [
  {
   "cell_type": "markdown",
   "metadata": {},
   "source": [
    "# Starter Notebook\n",
    "\n",
    "This Notebook has been adapted from a training authored by Esri Canada, found [here](https://github.com/highered-esricanada/arcgis-notebooks-tutorial) and offered under a Creative Commons license ([CC BY-NC-SA 4.0](https://creativecommons.org/licenses/by-nc-sa/4.0/)).\n",
    "\n",
    "This initial notebook will step you through a few general aspects of working with the Jupyter Notebook environment to compose notebooks and to write and execute Python code.\n",
    "\n",
    "If this is your first time working with a Jupyter notebook, you can orient yourself by following the [*User Interface Tour*](https://pro.arcgis.com/en/pro-app/latest/get-started/user-interface.htm) and reviewing the [ArcGIS Notebook](https://pro.arcgis.com/en/pro-app/latest/arcpy/get-started/pro-notebooks.htm) help page."
   ]
  },
  {
   "cell_type": "markdown",
   "metadata": {},
   "source": [
    "## Notebook Cells\n",
    "\n",
    "There are two types of cells that are typically used in a Jupyter notebook: *Markdown* and `Code`\n",
    "\n",
    "When a cell is selected in the document (e.g., by clicking on it), you can see the current cell type and change it using the dropdown menu displayed in the Jupyter notebook toolbar.\n",
    "\n",
    "### Markdown Cells\n",
    "\n",
    "This cell is an example of a Markdown cell.  Markdown is a lightweight plain-text-formatting markup language.  Markdown cells in a Jupyter notebook enable you use standard Markdown syntax along with extended capabilities in the Jupyter Notebook environment to compose rich text with support for images and multimedia, mathematical equations, and embeded web components. With this simple syntax, it is easy to apply *common* **style** ***properties*** to text, compose lists and tables, embed links, blockquotes, and formulas, and insert images and multimedia.  There are many examples of how to write Markdown readily found online.  For reference, a Jupyter Notebook cheatsheet (see `/documents/Jupyter_Cheatsheet.pdf`) has provided with the workshop files that includes an overview Markdown syntax for composing common elements of a document.\n",
    "\n",
    "Double-click on a Markdown cell or select the cell and press `Enter` to edit the raw Markdown syntax.\n",
    "\n",
    "Execute the cell (click the `Run` button above, or press `CTRL+Enter`) to view the rendered output."
   ]
  },
  {
   "cell_type": "markdown",
   "metadata": {},
   "source": [
    "### Code Cells\n",
    "\n",
    "Code cells are where you execute all your Python code and produce the outputs you use to understand and vizualize patterns in your data and the results of your analyses.\n",
    "\n",
    "Code cells can be activated and edited just like a Markdown cell.  However, the code remains visible in the input section of the cell (indicated on the left by the <span style=\"color:blue; font-family:monospace;\">In [ ]</span> characters)\n",
    "\n",
    "When a cell is executed (by clicking the `Run` button or pressing `CTRL+Enter`), the input cell appears momentarily with <span style=\"color:blue; font-family:monospace;\">In [*]</span> while the commands are processed.  Once the code is complete, the input cell is labeled with a number indicating the sequential order it was most recently executed relative to other cells (e.g., <span style=\"color:blue; font-family:monospace;\">In [1]</span> for the first executed cell).  If any output is returned by the cell, then it will have an output area appended with a corresponding label (e.g., <span style=\"color:red; font-family:monospace;\">Out[1]</span>) and the results of the code will be displayed.\n",
    "\n",
    "The next cell below is a code cell.  When executed, it will display the results of a simple mathematical calculation:"
   ]
  },
  {
   "cell_type": "code",
   "execution_count": 81,
   "metadata": {},
   "outputs": [
    {
     "data": {
      "text/plain": [
       "50.0"
      ]
     },
     "execution_count": 81,
     "metadata": {},
     "output_type": "execute_result"
    }
   ],
   "source": [
    "(18 * 3) - (20 / 5)"
   ]
  },
  {
   "cell_type": "markdown",
   "metadata": {},
   "source": [
    "The notebook interface is an interactive environment that enables you to easily experiment with your code.  If you execute the code cell below, you will see it procduce an error (because the `current_date` variable referenced in the code is not yet defined).\n",
    "\n",
    "However, despite this error, you will be able to continue working in the current session without losing any progress:"
   ]
  },
  {
   "cell_type": "code",
   "execution_count": 82,
   "metadata": {},
   "outputs": [
    {
     "ename": "NameError",
     "evalue": "name 'current_date' is not defined",
     "output_type": "error",
     "traceback": [
      "\u001b[0;31m---------------------------------------------------------------------------\u001b[0m\n\u001b[0;31mNameError\u001b[0m                                 Traceback (most recent call last)",
      "In  \u001b[0;34m[82]\u001b[0m:\nLine \u001b[0;34m1\u001b[0m:     \u001b[36mprint\u001b[39;49;00m(\u001b[33m\"\u001b[39;49;00m\u001b[33mWelcome to the ArcGIS Notebooks tutorial on \u001b[39;49;00m\u001b[33m{}\u001b[39;49;00m\u001b[33m!\u001b[39;49;00m\u001b[33m\"\u001b[39;49;00m.format(current_date.strftime(\u001b[33m\"\u001b[39;49;00m\u001b[33m%\u001b[39;49;00m\u001b[33mA, \u001b[39;49;00m\u001b[33m%\u001b[39;49;00m\u001b[33mB \u001b[39;49;00m\u001b[33m%d\u001b[39;49;00m\u001b[33m, \u001b[39;49;00m\u001b[33m%\u001b[39;49;00m\u001b[33mY\u001b[39;49;00m\u001b[33m\"\u001b[39;49;00m)))\u001b[37m\u001b[39;49;00m\n",
      "\u001b[0;31mNameError\u001b[0m: name 'current_date' is not defined\n\u001b[0;31m---------------------------------------------------------------------------\u001b[0m"
     ]
    }
   ],
   "source": [
    "print(\"Welcome to the ArcGIS Notebooks tutorial on {}!\".format(current_date.strftime(\"%A, %B %d, %Y\")))"
   ]
  },
  {
   "cell_type": "markdown",
   "metadata": {},
   "source": [
    "You can write and execute any standard python code, for example, to import Python modules and create variables.\n",
    "\n",
    "When you execute a code cell that imports modules, defines functions, or creates variables, those resources become accessible to all other code cells in the current notebook (regardless of their position in the document) as long the current Python kernel session remains open.\n",
    "\n",
    "After executing the cell below, try returning to the code cell that produced the error above, and executing it again.  You should now see the expected output from the code because you have defined the `current_date` variable as a new `datetime` object."
   ]
  },
  {
   "cell_type": "code",
   "execution_count": 83,
   "metadata": {},
   "outputs": [
    {
     "data": {
      "text/plain": [
       "<class 'datetime.datetime'>"
      ]
     },
     "execution_count": 83,
     "metadata": {},
     "output_type": "execute_result"
    }
   ],
   "source": [
    "import datetime\n",
    "current_date = datetime.datetime.now()\n",
    "type(current_date)"
   ]
  },
  {
   "cell_type": "markdown",
   "metadata": {},
   "source": [
    "One of the most popular modules for working with data in Python is the [Python Data Analysis Library](https://pandas.pydata.org/), or `pandas`.  This library provides the `DataFrame` object and associated functions that enhance *data wrangling* tasks in Python.\n",
    "\n",
    "Loading data can be as simple as reading a basic CSV file.  For example:"
   ]
  },
  {
   "cell_type": "code",
   "execution_count": 84,
   "metadata": {},
   "outputs": [],
   "source": [
    "import pandas as pd\n",
    "glofas_stn = pd.read_csv('https://staff.ral.ucar.edu/hopson/GloFAS/Q2Qbiascorrection/glofas_stations_details.CSV')"
   ]
  },
  {
   "cell_type": "markdown",
   "metadata": {},
   "source": [
    "In the Jupyter notebook environment, it is very easy to interact with `DataFrame` objects.  For reference, a Pandas Cheatsheet has been included with the workshop files (see `/documents/Pandas_Cheat_Sheet.pdf`).\n",
    "\n",
    "For example, you can view the GloFAS station data loaded above by simply returning the variable in the last line of any code cell - you will be presented with a sample preview of records from the top and bottom rows of the data frame, and a summary of its overall shape (rows x columns):  "
   ]
  },
  {
   "cell_type": "code",
   "execution_count": 85,
   "metadata": {},
   "outputs": [
    {
     "data": {
      "text/html": [
       "<div>\n",
       "<style scoped>\n",
       "    .dataframe tbody tr th:only-of-type {\n",
       "        vertical-align: middle;\n",
       "    }\n",
       "\n",
       "    .dataframe tbody tr th {\n",
       "        vertical-align: top;\n",
       "    }\n",
       "\n",
       "    .dataframe thead th {\n",
       "        text-align: right;\n",
       "    }\n",
       "</style>\n",
       "<table border=\"1\" class=\"dataframe\">\n",
       "  <thead>\n",
       "    <tr style=\"text-align: right;\">\n",
       "      <th></th>\n",
       "      <th>sta_name</th>\n",
       "      <th>sta_id</th>\n",
       "      <th>State Name</th>\n",
       "      <th>lon_cwc</th>\n",
       "      <th>lat_cwc</th>\n",
       "      <th>Basin</th>\n",
       "      <th>subbasin</th>\n",
       "      <th>Area [km^2]</th>\n",
       "    </tr>\n",
       "  </thead>\n",
       "  <tbody>\n",
       "    <tr>\n",
       "      <th>0</th>\n",
       "      <td>a.b road x-ing</td>\n",
       "      <td>019-CDJAPR</td>\n",
       "      <td>Madhya Pradesh</td>\n",
       "      <td>77.111389</td>\n",
       "      <td>24.346667</td>\n",
       "      <td>Ganges</td>\n",
       "      <td>Chambal</td>\n",
       "      <td>5976.84</td>\n",
       "    </tr>\n",
       "    <tr>\n",
       "      <th>1</th>\n",
       "      <td>ahirwalia</td>\n",
       "      <td>003-mgd4ptn</td>\n",
       "      <td>Bihar</td>\n",
       "      <td>85.167222</td>\n",
       "      <td>26.367500</td>\n",
       "      <td>Ganges</td>\n",
       "      <td>LowerGanges</td>\n",
       "      <td>7722.13</td>\n",
       "    </tr>\n",
       "    <tr>\n",
       "      <th>2</th>\n",
       "      <td>aklera</td>\n",
       "      <td>017-CDJAPR</td>\n",
       "      <td>Rajasthan</td>\n",
       "      <td>76.603889</td>\n",
       "      <td>24.429722</td>\n",
       "      <td>Ganges</td>\n",
       "      <td>Chambal</td>\n",
       "      <td>6142.35</td>\n",
       "    </tr>\n",
       "    <tr>\n",
       "      <th>3</th>\n",
       "      <td>ankinghat</td>\n",
       "      <td>011-mgd2lkn</td>\n",
       "      <td>Uttar Pradesh</td>\n",
       "      <td>80.035643</td>\n",
       "      <td>26.934361</td>\n",
       "      <td>Ganges</td>\n",
       "      <td>MiddleGanges</td>\n",
       "      <td>82498.30</td>\n",
       "    </tr>\n",
       "    <tr>\n",
       "      <th>4</th>\n",
       "      <td>a.p. ghat</td>\n",
       "      <td>010-MBDGHY</td>\n",
       "      <td>Assam</td>\n",
       "      <td>92.803323</td>\n",
       "      <td>24.852918</td>\n",
       "      <td>Meghna</td>\n",
       "      <td>Meghna</td>\n",
       "      <td>19175.00</td>\n",
       "    </tr>\n",
       "    <tr>\n",
       "      <th>...</th>\n",
       "      <td>...</td>\n",
       "      <td>...</td>\n",
       "      <td>...</td>\n",
       "      <td>...</td>\n",
       "      <td>...</td>\n",
       "      <td>...</td>\n",
       "      <td>...</td>\n",
       "      <td>...</td>\n",
       "    </tr>\n",
       "    <tr>\n",
       "      <th>191</th>\n",
       "      <td>turtipar</td>\n",
       "      <td>012-MGD1LKN</td>\n",
       "      <td>Uttar Pradesh</td>\n",
       "      <td>83.880278</td>\n",
       "      <td>26.143611</td>\n",
       "      <td>Ganges</td>\n",
       "      <td>Ghagra</td>\n",
       "      <td>123504.00</td>\n",
       "    </tr>\n",
       "    <tr>\n",
       "      <th>192</th>\n",
       "      <td>tuting</td>\n",
       "      <td>002-ubddib</td>\n",
       "      <td>Arunachal Pradesh</td>\n",
       "      <td>94.905033</td>\n",
       "      <td>28.990250</td>\n",
       "      <td>Brahmaputra</td>\n",
       "      <td>UpperBrahmaputra-Nyang</td>\n",
       "      <td>242026.00</td>\n",
       "    </tr>\n",
       "    <tr>\n",
       "      <th>193</th>\n",
       "      <td>uskabazar</td>\n",
       "      <td>013-MGD1LKN</td>\n",
       "      <td>Uttar Pradesh</td>\n",
       "      <td>83.125833</td>\n",
       "      <td>27.189722</td>\n",
       "      <td>Ganges</td>\n",
       "      <td>Ghagra</td>\n",
       "      <td>2974.78</td>\n",
       "    </tr>\n",
       "    <tr>\n",
       "      <th>194</th>\n",
       "      <td>uttarkashi</td>\n",
       "      <td>008-HGDDDN</td>\n",
       "      <td>Uttarakhand</td>\n",
       "      <td>78.356389</td>\n",
       "      <td>30.738889</td>\n",
       "      <td>Ganges</td>\n",
       "      <td>UpperGanges</td>\n",
       "      <td>4652.96</td>\n",
       "    </tr>\n",
       "    <tr>\n",
       "      <th>195</th>\n",
       "      <td>varanasi</td>\n",
       "      <td>006-MGD3VNS</td>\n",
       "      <td>Uttar Pradesh</td>\n",
       "      <td>83.035371</td>\n",
       "      <td>25.320763</td>\n",
       "      <td>Ganges</td>\n",
       "      <td>MiddleGanges</td>\n",
       "      <td>462416.00</td>\n",
       "    </tr>\n",
       "  </tbody>\n",
       "</table>\n",
       "<p>196 rows × 8 columns</p>\n",
       "</div>"
      ],
      "text/plain": [
       "           sta_name       sta_id         State Name    lon_cwc    lat_cwc  \\\n",
       "0    a.b road x-ing   019-CDJAPR     Madhya Pradesh  77.111389  24.346667   \n",
       "1         ahirwalia  003-mgd4ptn              Bihar  85.167222  26.367500   \n",
       "2            aklera   017-CDJAPR          Rajasthan  76.603889  24.429722   \n",
       "3         ankinghat  011-mgd2lkn      Uttar Pradesh  80.035643  26.934361   \n",
       "4         a.p. ghat   010-MBDGHY              Assam  92.803323  24.852918   \n",
       "..              ...          ...                ...        ...        ...   \n",
       "191        turtipar  012-MGD1LKN      Uttar Pradesh  83.880278  26.143611   \n",
       "192          tuting   002-ubddib  Arunachal Pradesh  94.905033  28.990250   \n",
       "193       uskabazar  013-MGD1LKN      Uttar Pradesh  83.125833  27.189722   \n",
       "194      uttarkashi   008-HGDDDN        Uttarakhand  78.356389  30.738889   \n",
       "195        varanasi  006-MGD3VNS      Uttar Pradesh  83.035371  25.320763   \n",
       "\n",
       "           Basin                subbasin  Area [km^2]  \n",
       "0         Ganges                 Chambal      5976.84  \n",
       "1         Ganges             LowerGanges      7722.13  \n",
       "2         Ganges                 Chambal      6142.35  \n",
       "3         Ganges            MiddleGanges     82498.30  \n",
       "4         Meghna                  Meghna     19175.00  \n",
       "..           ...                     ...          ...  \n",
       "191       Ganges                  Ghagra    123504.00  \n",
       "192  Brahmaputra  UpperBrahmaputra-Nyang    242026.00  \n",
       "193       Ganges                  Ghagra      2974.78  \n",
       "194       Ganges             UpperGanges      4652.96  \n",
       "195       Ganges            MiddleGanges    462416.00  \n",
       "\n",
       "[196 rows x 8 columns]"
      ]
     },
     "execution_count": 85,
     "metadata": {},
     "output_type": "execute_result"
    }
   ],
   "source": [
    "glofas_stn"
   ]
  },
  {
   "cell_type": "markdown",
   "metadata": {},
   "source": [
    "Plots can be generated easily in a variety of ways.  For example, to generate a simple scatter plot of the latitude and longitude coordinates:"
   ]
  },
  {
   "cell_type": "code",
   "execution_count": 89,
   "metadata": {},
   "outputs": [
    {
     "data": {
      "text/plain": [
       "<AxesSubplot: xlabel='lon_cwc', ylabel='lat_cwc'>"
      ]
     },
     "execution_count": 89,
     "metadata": {},
     "output_type": "execute_result"
    },
    {
     "data": {
      "image/png": "[encoded data removed]",
      "text/plain": [
       "<Figure size 640x480 with 1 Axes>"
      ]
     },
     "metadata": {},
     "output_type": "display_data"
    }
   ],
   "source": [
    "glofas_stn.plot.scatter(x=\"lon_cwc\", y=\"lat_cwc\")"
   ]
  },
  {
   "cell_type": "markdown",
   "metadata": {},
   "source": [
    "Summarize the data by frequency by grouping them by the `subbasin` function, executing the `size()` function, which produces the number of rows for each group. Note that you return the newly-created `glofas_stn_sum` data series on the last line of the cell in order to preview the result immediately after it is created:"
   ]
  },
  {
   "cell_type": "code",
   "execution_count": 91,
   "metadata": {},
   "outputs": [
    {
     "data": {
      "text/plain": [
       "subbasin\n",
       "Bagmati                    6\n",
       "Betwa                      4\n",
       "Chambal                   15\n",
       "Gandak                     6\n",
       "Ghagra                    17\n",
       "Gomti                     10\n",
       "Jamuna                    16\n",
       "Kamla-Balan                2\n",
       "Ken                        3\n",
       "Kosi                       5\n",
       "Lohit                      1\n",
       "LowerBrahmaputra          10\n",
       "LowerGanges               11\n",
       "Mahananda                  2\n",
       "Manas                      3\n",
       "Meghna                     8\n",
       "MiddleBrahmaputra          9\n",
       "MiddleGanges              13\n",
       "Ramganga                   5\n",
       "Sind                       1\n",
       "Sone                      12\n",
       "Subansiri                  3\n",
       "Tons                       2\n",
       "UpperBrahmaputra-Nyang     3\n",
       "UpperGanges               10\n",
       "Yamuna                    19\n",
       "dtype: int64"
      ]
     },
     "execution_count": 91,
     "metadata": {},
     "output_type": "execute_result"
    }
   ],
   "source": [
    "glofas_stn_sum = glofas_stn.groupby(\"subbasin\").size()\n",
    "glofas_stn_sum"
   ]
  },
  {
   "cell_type": "markdown",
   "metadata": {},
   "source": [
    "Plot some bar charts using the built-in plot functions of the `Series` object type:"
   ]
  },
  {
   "cell_type": "code",
   "execution_count": 92,
   "metadata": {},
   "outputs": [
    {
     "data": {
      "text/plain": [
       "<AxesSubplot: xlabel='subbasin'>"
      ]
     },
     "execution_count": 92,
     "metadata": {},
     "output_type": "execute_result"
    },
    {
     "data": {
      "image/png": "[encoded data removed]",
      "text/plain": [
       "<Figure size 640x480 with 1 Axes>"
      ]
     },
     "metadata": {},
     "output_type": "display_data"
    }
   ],
   "source": [
    "%matplotlib inline\n",
    "glofas_stn_sum.plot.bar()"
   ]
  },
  {
   "cell_type": "markdown",
   "metadata": {},
   "source": [
    "Up to this point, this section has demonstrated the basics of working with code cells to execute Python code in a notebook.  You have seen how you can load modules, read and manipulate data, and visualize data as simple raw values, as tabular previous, and as graphics generated by plotting capabilities.\n",
    "\n",
    "The next section dicuses how you can work with ArcGIS within the Jupyter and ArcGIS Notebook environment."
   ]
  },
  {
   "cell_type": "markdown",
   "metadata": {},
   "source": [
    "## Conclusion\n",
    "\n",
    "This starter notebook has provided you with a brief overview of how to compose Jupyter Notebook documents that interlace rich text and multimedia with Python code for processing, analyzing, and visualizing data.  You have learned how to work with the Jupyter interface to create and control Markdown and code cells.\n",
    "\n",
    "Proceed to the additional notebooks provided in the same folder as this notebook to learn about additional features that are specifically unique to *ArcGIS Notebooks*."
   ]
  },
  {
   "cell_type": "markdown",
   "metadata": {},
   "source": [
    "### Reset the namespace\n",
    "\n",
    "The following `%reset -f` command is a built-in command in Jupyter Notebook that will reset the namespace. This is good practice to run when you are finished with the notebook."
   ]
  },
  {
   "cell_type": "code",
   "execution_count": 93,
   "metadata": {},
   "outputs": [],
   "source": [
    "%reset -f"
   ]
  },
  {
   "cell_type": "markdown",
   "metadata": {},
   "source": [
    "# Next up - ???\n",
    "This concludes Lesson **N1 - Intorduction to Jupyter Notebooks**. In the next lesson we will plot basic location data.\n",
    "\n",
    "**IT IS BEST TO EITHER SHUTDOWN THIS LESSON OR CLOSE IT BEFORE PROCEEDING TO THE NEXT LESSON TO AVOID POSSIBLY EXCEEDING ALLOCATED MEMORY. Select `Command Pallette -> restart kernel`.**"
   ]
  }
 ],
 "metadata": {
  "kernelspec": {
   "display_name": "ArcGISPro",
   "language": "Python",
   "name": "python3"
  },
  "language_info": {
   "file_extension": ".py",
   "name": "python",
   "version": "3"
  }
 },
 "nbformat": 4,
 "nbformat_minor": 2
}
