{
 "cells": [
  {
   "cell_type": "markdown",
   "metadata": {},
   "source": [
    "# Starter Notebook\n",
    "\n",
    "This Notebook has been adapted from a training authored by Esri Canada, found [here](https://github.com/highered-esricanada/arcgis-notebooks-tutorial) and offered under a Creative Commons license ([CC BY-NC-SA 4.0](https://creativecommons.org/licenses/by-nc-sa/4.0/)).\n",
    "\n",
    "This initial notebook will step you through a few general aspects of working with the Jupyter Notebook environment to compose notebooks and to write and execute Python code.\n",
    "\n",
    "If this is your first time working with a Jupyter notebook, you can orient yourself by following the [*User Interface Tour*](https://pro.arcgis.com/en/pro-app/latest/get-started/user-interface.htm) and reviewing the [ArcGIS Notebook](https://pro.arcgis.com/en/pro-app/latest/arcpy/get-started/pro-notebooks.htm) help page."
   ]
  },
  {
   "cell_type": "markdown",
   "metadata": {},
   "source": [
    "## Notebook Cells\n",
    "\n",
    "There are two types of cells that are typically used in a Jupyter notebook: *Markdown* and `Code`\n",
    "\n",
    "When a cell is selected in the document (e.g., by clicking on it), you can see the current cell type and change it using the dropdown menu displayed in the Jupyter notebook toolbar.\n",
    "\n",
    "### Markdown Cells\n",
    "\n",
    "This cell is an example of a Markdown cell.  Markdown is a lightweight plain-text-formatting markup language.  Markdown cells in a Jupyter notebook enable you use standard Markdown syntax along with extended capabilities in the Jupyter Notebook environment to compose rich text with support for images and multimedia, mathematical equations, and embeded web components. With this simple syntax, it is easy to apply *common* **style** ***properties*** to text, compose lists and tables, embed links, blockquotes, and formulas, and insert images and multimedia.  There are many examples of how to write Markdown readily found online.  For reference, a Jupyter Notebook cheatsheet (see `/documents/Jupyter_Cheatsheet.pdf`) has provided with the workshop files that includes an overview Markdown syntax for composing common elements of a document.\n",
    "\n",
    "Double-click on a Markdown cell or select the cell and press `Enter` to edit the raw Markdown syntax.\n",
    "\n",
    "Execute the cell (click the `Run` button above, or press `CTRL+Enter`) to view the rendered output."
   ]
  },
  {
   "cell_type": "markdown",
   "metadata": {},
   "source": [
    "### Code Cells\n",
    "\n",
    "Code cells are where you execute all your Python code and produce the outputs you use to understand and vizualize patterns in your data and the results of your analyses.\n",
    "\n",
    "Code cells can be activated and edited just like a Markdown cell.  However, the code remains visible in the input section of the cell (indicated on the left by the <span style=\"color:blue; font-family:monospace;\">In [ ]</span> characters)\n",
    "\n",
    "When a cell is executed (by clicking the `Run` button or pressing `CTRL+Enter`), the input cell appears momentarily with <span style=\"color:blue; font-family:monospace;\">In [*]</span> while the commands are processed.  Once the code is complete, the input cell is labeled with a number indicating the sequential order it was most recently executed relative to other cells (e.g., <span style=\"color:blue; font-family:monospace;\">In [1]</span> for the first executed cell).  If any output is returned by the cell, then it will have an output area appended with a corresponding label (e.g., <span style=\"color:red; font-family:monospace;\">Out[1]</span>) and the results of the code will be displayed.\n",
    "\n",
    "The next cell below is a code cell.  When executed, it will display the results of a simple mathematical calculation:"
   ]
  },
  {
   "cell_type": "code",
   "execution_count": 114,
   "metadata": {},
   "outputs": [
    {
     "data": {
      "text/plain": [
       "50.0"
      ]
     },
     "execution_count": 114,
     "metadata": {},
     "output_type": "execute_result"
    }
   ],
   "source": [
    "(18 * 3) - (20 / 5)"
   ]
  },
  {
   "cell_type": "markdown",
   "metadata": {},
   "source": [
    "The notebook interface is an interactive environment that enables you to easily experiment with your code.  If you execute the code cell below, you will see it procduce an error (because the `current_date` variable referenced in the code is not yet defined).\n",
    "\n",
    "However, despite this error, you will be able to continue working in the current session without losing any progress:"
   ]
  },
  {
   "cell_type": "code",
   "execution_count": 115,
   "metadata": {},
   "outputs": [
    {
     "ename": "NameError",
     "evalue": "name 'current_date' is not defined",
     "output_type": "error",
     "traceback": [
      "\u001b[0;31m---------------------------------------------------------------------------\u001b[0m\n\u001b[0;31mNameError\u001b[0m                                 Traceback (most recent call last)",
      "In  \u001b[0;34m[115]\u001b[0m:\nLine \u001b[0;34m1\u001b[0m:     \u001b[36mprint\u001b[39;49;00m(\u001b[33m\"\u001b[39;49;00m\u001b[33mWelcome to the ArcGIS Notebooks tutorial on \u001b[39;49;00m\u001b[33m{}\u001b[39;49;00m\u001b[33m!\u001b[39;49;00m\u001b[33m\"\u001b[39;49;00m.format(current_date.strftime(\u001b[33m\"\u001b[39;49;00m\u001b[33m%\u001b[39;49;00m\u001b[33mA, \u001b[39;49;00m\u001b[33m%\u001b[39;49;00m\u001b[33mB \u001b[39;49;00m\u001b[33m%d\u001b[39;49;00m\u001b[33m, \u001b[39;49;00m\u001b[33m%\u001b[39;49;00m\u001b[33mY\u001b[39;49;00m\u001b[33m\"\u001b[39;49;00m)))\u001b[37m\u001b[39;49;00m\n",
      "\u001b[0;31mNameError\u001b[0m: name 'current_date' is not defined\n\u001b[0;31m---------------------------------------------------------------------------\u001b[0m"
     ]
    }
   ],
   "source": [
    "print(\"Welcome to the ArcGIS Notebooks tutorial on {}!\".format(current_date.strftime(\"%A, %B %d, %Y\")))"
   ]
  },
  {
   "cell_type": "markdown",
   "metadata": {},
   "source": [
    "You can write and execute any standard python code, for example, to import Python modules and create variables.\n",
    "\n",
    "When you execute a code cell that imports modules, defines functions, or creates variables, those resources become accessible to all other code cells in the current notebook (regardless of their position in the document) as long the current Python kernel session remains open.\n",
    "\n",
    "After executing the cell below, try returning to the code cell that produced the error above, and executing it again.  You should now see the expected output from the code because you have defined the `current_date` variable as a new `datetime` object."
   ]
  },
  {
   "cell_type": "code",
   "execution_count": 116,
   "metadata": {},
   "outputs": [
    {
     "data": {
      "text/plain": [
       "<class 'datetime.datetime'>"
      ]
     },
     "execution_count": 116,
     "metadata": {},
     "output_type": "execute_result"
    }
   ],
   "source": [
    "import datetime\n",
    "current_date = datetime.datetime.now()\n",
    "type(current_date)"
   ]
  },
  {
   "cell_type": "markdown",
   "metadata": {},
   "source": [
    "One of the most popular modules for working with data in Python is the [Python Data Analysis Library](https://pandas.pydata.org/), or `pandas`.  This library provides the `DataFrame` object and associated functions that enhance *data wrangling* tasks in Python.\n",
    "\n",
    "Loading data can be as simple as reading a basic CSV file.  For example:"
   ]
  },
  {
   "cell_type": "code",
   "execution_count": 117,
   "metadata": {},
   "outputs": [],
   "source": [
    "import pandas as pd\n",
    "glofas_stn = pd.read_csv('https://staff.ral.ucar.edu/hopson/GloFAS/Q2Qbiascorrection/glofas_stations_details.CSV')"
   ]
  },
  {
   "cell_type": "markdown",
   "metadata": {},
   "source": [
    "In the Jupyter notebook environment, it is very easy to interact with `DataFrame` objects.  For reference, a Pandas Cheatsheet has been included with the workshop files (see `/documents/Pandas_Cheat_Sheet.pdf`).\n",
    "\n",
    "For example, you can view the GloFAS station data loaded above by simply returning the variable in the last line of any code cell - you will be presented with a sample preview of records from the top and bottom rows of the data frame, and a summary of its overall shape (rows x columns):  "
   ]
  },
  {
   "cell_type": "code",
   "execution_count": 118,
   "metadata": {},
   "outputs": [
    {
     "data": {
      "text/html": [
       "<div>\n",
       "<style scoped>\n",
       "    .dataframe tbody tr th:only-of-type {\n",
       "        vertical-align: middle;\n",
       "    }\n",
       "\n",
       "    .dataframe tbody tr th {\n",
       "        vertical-align: top;\n",
       "    }\n",
       "\n",
       "    .dataframe thead th {\n",
       "        text-align: right;\n",
       "    }\n",
       "</style>\n",
       "<table border=\"1\" class=\"dataframe\">\n",
       "  <thead>\n",
       "    <tr style=\"text-align: right;\">\n",
       "      <th></th>\n",
       "      <th>sta_name</th>\n",
       "      <th>sta_id</th>\n",
       "      <th>lon_cwc</th>\n",
       "      <th>lat_cwc</th>\n",
       "      <th>subbasin</th>\n",
       "      <th>basin</th>\n",
       "      <th>sta_name2</th>\n",
       "      <th>state</th>\n",
       "      <th>lon_snap</th>\n",
       "      <th>lat_snap</th>\n",
       "      <th>notes</th>\n",
       "    </tr>\n",
       "  </thead>\n",
       "  <tbody>\n",
       "    <tr>\n",
       "      <th>0</th>\n",
       "      <td>mathanguri</td>\n",
       "      <td>001-LBDJPG</td>\n",
       "      <td>90.956</td>\n",
       "      <td>26.781</td>\n",
       "      <td>Manas</td>\n",
       "      <td>Brahmaputra</td>\n",
       "      <td>Mathanguri</td>\n",
       "      <td>Assam</td>\n",
       "      <td>90.956</td>\n",
       "      <td>26.781</td>\n",
       "      <td>CWC website</td>\n",
       "    </tr>\n",
       "    <tr>\n",
       "      <th>1</th>\n",
       "      <td>bedepara</td>\n",
       "      <td>001-lgd3beh</td>\n",
       "      <td>88.697</td>\n",
       "      <td>24.139</td>\n",
       "      <td>LowerGanges</td>\n",
       "      <td>Ganges</td>\n",
       "      <td>Bedepara</td>\n",
       "      <td>West Bengal</td>\n",
       "      <td>88.750</td>\n",
       "      <td>24.200</td>\n",
       "      <td>visual snapped</td>\n",
       "    </tr>\n",
       "    <tr>\n",
       "      <th>2</th>\n",
       "      <td>guwahati</td>\n",
       "      <td>001-MBDGHY</td>\n",
       "      <td>91.757</td>\n",
       "      <td>26.198</td>\n",
       "      <td>LowerBrahmaputra</td>\n",
       "      <td>Brahmaputra</td>\n",
       "      <td>Guwahati</td>\n",
       "      <td>Assam</td>\n",
       "      <td>91.757</td>\n",
       "      <td>26.198</td>\n",
       "      <td>CWC website</td>\n",
       "    </tr>\n",
       "    <tr>\n",
       "      <th>3</th>\n",
       "      <td>buxar</td>\n",
       "      <td>001-MGD5PTN</td>\n",
       "      <td>83.972</td>\n",
       "      <td>25.580</td>\n",
       "      <td>MiddleGanges</td>\n",
       "      <td>Ganges</td>\n",
       "      <td>Buxar</td>\n",
       "      <td>Bihar</td>\n",
       "      <td>83.989</td>\n",
       "      <td>25.588</td>\n",
       "      <td>visual snapped</td>\n",
       "    </tr>\n",
       "    <tr>\n",
       "      <th>4</th>\n",
       "      <td>china bridge</td>\n",
       "      <td>001NEID3</td>\n",
       "      <td>92.007</td>\n",
       "      <td>27.640</td>\n",
       "      <td>Manas</td>\n",
       "      <td>Brahmaputra</td>\n",
       "      <td>Tawang Chu (Muruga Bridge)</td>\n",
       "      <td>NaN</td>\n",
       "      <td>92.007</td>\n",
       "      <td>27.640</td>\n",
       "      <td>visual snapped</td>\n",
       "    </tr>\n",
       "    <tr>\n",
       "      <th>...</th>\n",
       "      <td>...</td>\n",
       "      <td>...</td>\n",
       "      <td>...</td>\n",
       "      <td>...</td>\n",
       "      <td>...</td>\n",
       "      <td>...</td>\n",
       "      <td>...</td>\n",
       "      <td>...</td>\n",
       "      <td>...</td>\n",
       "      <td>...</td>\n",
       "      <td>...</td>\n",
       "    </tr>\n",
       "    <tr>\n",
       "      <th>61</th>\n",
       "      <td>ghugumari</td>\n",
       "      <td>030-LBDJPG</td>\n",
       "      <td>89.464</td>\n",
       "      <td>26.305</td>\n",
       "      <td>Jamuna</td>\n",
       "      <td>Brahmaputra</td>\n",
       "      <td>Ghugumari</td>\n",
       "      <td>West Bengal</td>\n",
       "      <td>89.464</td>\n",
       "      <td>26.305</td>\n",
       "      <td>CWC website</td>\n",
       "    </tr>\n",
       "    <tr>\n",
       "      <th>62</th>\n",
       "      <td>dhengra ghat</td>\n",
       "      <td>030-mgd4ptn</td>\n",
       "      <td>87.803</td>\n",
       "      <td>25.848</td>\n",
       "      <td>Mahananda</td>\n",
       "      <td>Ganges</td>\n",
       "      <td>Dhengra Ghat</td>\n",
       "      <td>Bihar</td>\n",
       "      <td>87.803</td>\n",
       "      <td>25.848</td>\n",
       "      <td>CWC website</td>\n",
       "    </tr>\n",
       "    <tr>\n",
       "      <th>63</th>\n",
       "      <td>jhawa</td>\n",
       "      <td>031-mgd4ptn</td>\n",
       "      <td>87.791</td>\n",
       "      <td>25.610</td>\n",
       "      <td>Mahananda</td>\n",
       "      <td>Ganges</td>\n",
       "      <td>Jhawa</td>\n",
       "      <td>Bihar</td>\n",
       "      <td>87.791</td>\n",
       "      <td>25.610</td>\n",
       "      <td>CWC website</td>\n",
       "    </tr>\n",
       "    <tr>\n",
       "      <th>64</th>\n",
       "      <td>tezpur</td>\n",
       "      <td>031-UBDDIB</td>\n",
       "      <td>92.798</td>\n",
       "      <td>26.627</td>\n",
       "      <td>LowerBrahmaputra</td>\n",
       "      <td>Brahmaputra</td>\n",
       "      <td>Tezpur</td>\n",
       "      <td>Assam</td>\n",
       "      <td>92.798</td>\n",
       "      <td>26.627</td>\n",
       "      <td>CWC website</td>\n",
       "    </tr>\n",
       "    <tr>\n",
       "      <th>65</th>\n",
       "      <td>dharamtul</td>\n",
       "      <td>034-UBDDIB</td>\n",
       "      <td>92.338</td>\n",
       "      <td>26.178</td>\n",
       "      <td>LowerBrahmaputra</td>\n",
       "      <td>Brahmaputra</td>\n",
       "      <td>Dharamtul</td>\n",
       "      <td>Assam</td>\n",
       "      <td>92.338</td>\n",
       "      <td>26.178</td>\n",
       "      <td>CWC website</td>\n",
       "    </tr>\n",
       "  </tbody>\n",
       "</table>\n",
       "<p>66 rows × 11 columns</p>\n",
       "</div>"
      ],
      "text/plain": [
       "        sta_name       sta_id  lon_cwc  lat_cwc          subbasin  \\\n",
       "0     mathanguri   001-LBDJPG   90.956   26.781             Manas   \n",
       "1       bedepara  001-lgd3beh   88.697   24.139       LowerGanges   \n",
       "2       guwahati   001-MBDGHY   91.757   26.198  LowerBrahmaputra   \n",
       "3          buxar  001-MGD5PTN   83.972   25.580      MiddleGanges   \n",
       "4   china bridge     001NEID3   92.007   27.640             Manas   \n",
       "..           ...          ...      ...      ...               ...   \n",
       "61     ghugumari   030-LBDJPG   89.464   26.305            Jamuna   \n",
       "62  dhengra ghat  030-mgd4ptn   87.803   25.848         Mahananda   \n",
       "63         jhawa  031-mgd4ptn   87.791   25.610         Mahananda   \n",
       "64        tezpur   031-UBDDIB   92.798   26.627  LowerBrahmaputra   \n",
       "65     dharamtul   034-UBDDIB   92.338   26.178  LowerBrahmaputra   \n",
       "\n",
       "          basin                   sta_name2        state  lon_snap  lat_snap  \\\n",
       "0   Brahmaputra                  Mathanguri        Assam    90.956    26.781   \n",
       "1        Ganges                    Bedepara  West Bengal    88.750    24.200   \n",
       "2   Brahmaputra                    Guwahati        Assam    91.757    26.198   \n",
       "3        Ganges                       Buxar        Bihar    83.989    25.588   \n",
       "4   Brahmaputra  Tawang Chu (Muruga Bridge)          NaN    92.007    27.640   \n",
       "..          ...                         ...          ...       ...       ...   \n",
       "61  Brahmaputra                   Ghugumari  West Bengal    89.464    26.305   \n",
       "62       Ganges                Dhengra Ghat        Bihar    87.803    25.848   \n",
       "63       Ganges                       Jhawa        Bihar    87.791    25.610   \n",
       "64  Brahmaputra                      Tezpur        Assam    92.798    26.627   \n",
       "65  Brahmaputra                   Dharamtul        Assam    92.338    26.178   \n",
       "\n",
       "             notes  \n",
       "0      CWC website  \n",
       "1   visual snapped  \n",
       "2      CWC website  \n",
       "3   visual snapped  \n",
       "4   visual snapped  \n",
       "..             ...  \n",
       "61     CWC website  \n",
       "62     CWC website  \n",
       "63     CWC website  \n",
       "64     CWC website  \n",
       "65     CWC website  \n",
       "\n",
       "[66 rows x 11 columns]"
      ]
     },
     "execution_count": 118,
     "metadata": {},
     "output_type": "execute_result"
    }
   ],
   "source": [
    "glofas_stn"
   ]
  },
  {
   "cell_type": "markdown",
   "metadata": {},
   "source": [
    "Plots can be generated easily in a variety of ways.  For example, to generate a simple scatter plot of the latitude and longitude coordinates:"
   ]
  },
  {
   "cell_type": "code",
   "execution_count": 119,
   "metadata": {},
   "outputs": [
    {
     "data": {
      "text/plain": [
       "<AxesSubplot: xlabel='lon_cwc', ylabel='lat_cwc'>"
      ]
     },
     "execution_count": 119,
     "metadata": {},
     "output_type": "execute_result"
    },
    {
     "data": {
      "image/png": "[encoded data removed]",
      "text/plain": [
       "<Figure size 640x480 with 1 Axes>"
      ]
     },
     "metadata": {},
     "output_type": "display_data"
    }
   ],
   "source": [
    "glofas_stn.plot.scatter(x=\"lon_cwc\", y=\"lat_cwc\")"
   ]
  },
  {
   "cell_type": "markdown",
   "metadata": {},
   "source": [
    "Summarize the data by frequency by grouping them by the `subbasin` function, executing the `size()` function, which produces the number of rows for each group. Note that you return the newly-created `glofas_stn_sum` data series on the last line of the cell in order to preview the result immediately after it is created:"
   ]
  },
  {
   "cell_type": "code",
   "execution_count": 120,
   "metadata": {},
   "outputs": [
    {
     "data": {
      "text/plain": [
       "subbasin\n",
       "Bagmati                    2\n",
       "Gandak                     6\n",
       "Ghagra                    12\n",
       "Gomti                      1\n",
       "Jamuna                     4\n",
       "Kamla-Balan                1\n",
       "Kosi                       5\n",
       "LowerBrahmaputra           5\n",
       "LowerGanges                8\n",
       "Mahananda                  2\n",
       "Manas                      3\n",
       "MiddleBrahmaputra          1\n",
       "MiddleGanges               5\n",
       "Sone                       2\n",
       "Subansiri                  1\n",
       "UpperBrahmaputra-Nyang     3\n",
       "UpperGanges                4\n",
       "Yamuna                     1\n",
       "dtype: int64"
      ]
     },
     "execution_count": 120,
     "metadata": {},
     "output_type": "execute_result"
    }
   ],
   "source": [
    "glofas_stn_sum = glofas_stn.groupby(\"subbasin\").size()\n",
    "glofas_stn_sum"
   ]
  },
  {
   "cell_type": "markdown",
   "metadata": {},
   "source": [
    "Plot some bar charts using the built-in plot functions of the `Series` object type:"
   ]
  },
  {
   "cell_type": "code",
   "execution_count": 121,
   "metadata": {},
   "outputs": [
    {
     "data": {
      "text/plain": [
       "<AxesSubplot: xlabel='subbasin'>"
      ]
     },
     "execution_count": 121,
     "metadata": {},
     "output_type": "execute_result"
    },
    {
     "data": {
      "image/png": "[encoded data removed]",
      "text/plain": [
       "<Figure size 640x480 with 1 Axes>"
      ]
     },
     "metadata": {},
     "output_type": "display_data"
    }
   ],
   "source": [
    "glofas_stn_sum.plot.bar()"
   ]
  },
  {
   "cell_type": "markdown",
   "metadata": {},
   "source": [
    "Up to this point, this section has demonstrated the basics of working with code cells to execute Python code in a notebook.  You have seen how you can load modules, read and manipulate data, and visualize data as simple raw values, as tabular previous, and as graphics generated by plotting capabilities.\n",
    "\n",
    "The next section dicuses how you can work with ArcGIS within the Jupyter and ArcGIS Notebook environment."
   ]
  },
  {
   "cell_type": "markdown",
   "metadata": {},
   "source": [
    "## Conclusion\n",
    "\n",
    "This starter notebook has provided you with a brief overview of how to compose Jupyter Notebook documents that interlace rich text and multimedia with Python code for processing, analyzing, and visualizing data.  You have learned how to work with the Jupyter interface to create and control Markdown and code cells.\n",
    "\n",
    "Proceed to the additional notebooks provided in the same folder as this notebook to learn about additional features that are specifically unique to *ArcGIS Notebooks*."
   ]
  },
  {
   "cell_type": "markdown",
   "metadata": {},
   "source": [
    "### Reset the namespace\n",
    "\n",
    "The following `%reset -f` command is a built-in command in Jupyter Notebook that will reset the namespace. This is good practice to run when you are finished with the notebook."
   ]
  },
  {
   "cell_type": "code",
   "execution_count": null,
   "metadata": {},
   "outputs": [],
   "source": [
    "%reset -f"
   ]
  },
  {
   "cell_type": "markdown",
   "metadata": {},
   "source": [
    "# Next up - ???\n",
    "This concludes Lesson **N1 - Intorduction to Jupyter Notebooks**. In the next lesson we will plot basic location data.\n",
    "\n",
    "**IT IS BEST TO EITHER SHUTDOWN THIS LESSON OR CLOSE IT BEFORE PROCEEDING TO THE NEXT LESSON TO AVOID POSSIBLY EXCEEDING ALLOCATED MEMORY. Select `Command Pallette -> restart kernel`.**"
   ]
  }
 ],
 "metadata": {
  "kernelspec": {
   "display_name": "ArcGISPro",
   "language": "Python",
   "name": "python3"
  },
  "language_info": {
   "file_extension": ".py",
   "name": "python",
   "version": "3"
  }
 },
 "nbformat": 4,
 "nbformat_minor": 2
}
