{
 "cells": [
  {
   "cell_type": "markdown",
   "metadata": {},
   "source": [
    "# Examine Streamflow Data\n",
    "\n",
    "In this Notebook, we will walk through a number of topics, including:\n",
    "\n",
    "* Reading tabular data using a URL\n",
    "* Creating a Spatially Enabled DataFrame\n",
    "* Displaying point data on an ArcGIS Map Widget\n",
    "* Adding layers from ArcGIS Online into the Map Widget\n",
    "\n",
    "We will use a list of known observation gauge locations in a tabular format (CSV) and examine the tabular data as a table (DataFrame). Then, we will 'spatially enable' the data and examine the resulting features on an interactive map. Finally, we will enrich the data by bringing into the map additional data from the Esri Cloud (ArcGIS Online).\n",
    "\n",
    "This notebook is an Esri Notebook, designed to be run in the ArcGIS Pro environment. Please do not open with Jupyter or Jupyter Lab. "
   ]
  },
  {
   "cell_type": "markdown",
   "metadata": {},
   "source": [
    "### Import libraries\n",
    "\n",
    "The beginning of any script or Notebook will include importing Python modules (libraries) and functions that we will need in the following workflow.\n",
    "\n",
    "In this Esri Notebook, we will import the following libraries:\n",
    "\n",
    "* `sys` and `os` for operating system functions, such as finding or constructing a file path\n",
    "* `arcpy` for accessing information about the current Map document (.aprx).\n",
    "* Other libraries, and variables from the `00_environment_setup.ipynb` notebook that will be used throughout the training."
   ]
  },
  {
   "cell_type": "code",
   "execution_count": 94,
   "metadata": {},
   "outputs": [
    {
     "name": "stdout",
     "output_type": "stream",
     "text": [
      "Active Portal in ArcGIS Pro\n",
      "Logged in as ksampson\n",
      "Current conda environment:\n",
      "\tarcgispro-py3-clone C:\\Users\\ksampson\\AppData\\Local\\ESRI\\conda\\envs\\arcgispro-py3-clone\n",
      "Found input data directory: C:\\Users\\ksampson\\Desktop\\GloFAS_Q2Q_Bias_Correction_and_Verification\\data\\input\n",
      "Completed importing and/or installing libraries in 4.19 seconds.\n"
     ]
    }
   ],
   "source": [
    "# Find the directory of the current project and add to PATH\n",
    "import sys, os, arcpy\n",
    "home_folder = arcpy.mp.ArcGISProject(\"current\").homeFolder\n",
    "sys.path.insert(0, home_folder)\n",
    "os.chdir(home_folder)\n",
    "\n",
    "# The 00_environment_setup notebook contains libraries and other things common to all the notebooks (e.g. file paths)\n",
    "%run \"00_environment_setup.ipynb\""
   ]
  },
  {
   "cell_type": "markdown",
   "metadata": {},
   "source": [
    "### Read file from URL\n",
    "\n",
    "Read the CSV file from a URL to a `pandas` [DataFrame](https://pandas.pydata.org/docs/user_guide/dsintro.html#dataframe) object. A DataFrame is a 2 dimensional labeled data structure with columns of potentially different data types. This is commonly referred to as a data table. \n",
    "\n",
    "One of the most common methods of creating a DataFrame object is to read it from a text file. In this case, we will read a CSV file from an NCAR data server and create the table. Once the object is create, you can visualize a condensed view of the table in Jupyter by calling the ojbect"
   ]
  },
  {
   "cell_type": "code",
   "execution_count": 95,
   "metadata": {},
   "outputs": [
    {
     "data": {
      "text/html": [
       "<div>\n",
       "<style scoped>\n",
       "    .dataframe tbody tr th:only-of-type {\n",
       "        vertical-align: middle;\n",
       "    }\n",
       "\n",
       "    .dataframe tbody tr th {\n",
       "        vertical-align: top;\n",
       "    }\n",
       "\n",
       "    .dataframe thead th {\n",
       "        text-align: right;\n",
       "    }\n",
       "</style>\n",
       "<table border=\"1\" class=\"dataframe\">\n",
       "  <thead>\n",
       "    <tr style=\"text-align: right;\">\n",
       "      <th></th>\n",
       "      <th>sta_name</th>\n",
       "      <th>sta_id</th>\n",
       "      <th>State Name</th>\n",
       "      <th>lon_cwc</th>\n",
       "      <th>lat_cwc</th>\n",
       "      <th>Basin</th>\n",
       "      <th>subbasin</th>\n",
       "      <th>Area [km^2]</th>\n",
       "    </tr>\n",
       "  </thead>\n",
       "  <tbody>\n",
       "    <tr>\n",
       "      <th>0</th>\n",
       "      <td>a.b road x-ing</td>\n",
       "      <td>019-CDJAPR</td>\n",
       "      <td>Madhya Pradesh</td>\n",
       "      <td>77.111389</td>\n",
       "      <td>24.346667</td>\n",
       "      <td>Ganges</td>\n",
       "      <td>Chambal</td>\n",
       "      <td>5976.84</td>\n",
       "    </tr>\n",
       "    <tr>\n",
       "      <th>1</th>\n",
       "      <td>ahirwalia</td>\n",
       "      <td>003-mgd4ptn</td>\n",
       "      <td>Bihar</td>\n",
       "      <td>85.167222</td>\n",
       "      <td>26.367500</td>\n",
       "      <td>Ganges</td>\n",
       "      <td>LowerGanges</td>\n",
       "      <td>7722.13</td>\n",
       "    </tr>\n",
       "    <tr>\n",
       "      <th>2</th>\n",
       "      <td>aklera</td>\n",
       "      <td>017-CDJAPR</td>\n",
       "      <td>Rajasthan</td>\n",
       "      <td>76.603889</td>\n",
       "      <td>24.429722</td>\n",
       "      <td>Ganges</td>\n",
       "      <td>Chambal</td>\n",
       "      <td>6142.35</td>\n",
       "    </tr>\n",
       "    <tr>\n",
       "      <th>3</th>\n",
       "      <td>ankinghat</td>\n",
       "      <td>011-mgd2lkn</td>\n",
       "      <td>Uttar Pradesh</td>\n",
       "      <td>80.035643</td>\n",
       "      <td>26.934361</td>\n",
       "      <td>Ganges</td>\n",
       "      <td>MiddleGanges</td>\n",
       "      <td>82498.30</td>\n",
       "    </tr>\n",
       "    <tr>\n",
       "      <th>4</th>\n",
       "      <td>a.p. ghat</td>\n",
       "      <td>010-MBDGHY</td>\n",
       "      <td>Assam</td>\n",
       "      <td>92.803323</td>\n",
       "      <td>24.852918</td>\n",
       "      <td>Meghna</td>\n",
       "      <td>Meghna</td>\n",
       "      <td>19175.00</td>\n",
       "    </tr>\n",
       "    <tr>\n",
       "      <th>...</th>\n",
       "      <td>...</td>\n",
       "      <td>...</td>\n",
       "      <td>...</td>\n",
       "      <td>...</td>\n",
       "      <td>...</td>\n",
       "      <td>...</td>\n",
       "      <td>...</td>\n",
       "      <td>...</td>\n",
       "    </tr>\n",
       "    <tr>\n",
       "      <th>191</th>\n",
       "      <td>turtipar</td>\n",
       "      <td>012-MGD1LKN</td>\n",
       "      <td>Uttar Pradesh</td>\n",
       "      <td>83.880278</td>\n",
       "      <td>26.143611</td>\n",
       "      <td>Ganges</td>\n",
       "      <td>Ghagra</td>\n",
       "      <td>123504.00</td>\n",
       "    </tr>\n",
       "    <tr>\n",
       "      <th>192</th>\n",
       "      <td>tuting</td>\n",
       "      <td>002-ubddib</td>\n",
       "      <td>Arunachal Pradesh</td>\n",
       "      <td>94.905033</td>\n",
       "      <td>28.990250</td>\n",
       "      <td>Brahmaputra</td>\n",
       "      <td>UpperBrahmaputra-Nyang</td>\n",
       "      <td>242026.00</td>\n",
       "    </tr>\n",
       "    <tr>\n",
       "      <th>193</th>\n",
       "      <td>uskabazar</td>\n",
       "      <td>013-MGD1LKN</td>\n",
       "      <td>Uttar Pradesh</td>\n",
       "      <td>83.125833</td>\n",
       "      <td>27.189722</td>\n",
       "      <td>Ganges</td>\n",
       "      <td>Ghagra</td>\n",
       "      <td>2974.78</td>\n",
       "    </tr>\n",
       "    <tr>\n",
       "      <th>194</th>\n",
       "      <td>uttarkashi</td>\n",
       "      <td>008-HGDDDN</td>\n",
       "      <td>Uttarakhand</td>\n",
       "      <td>78.356389</td>\n",
       "      <td>30.738889</td>\n",
       "      <td>Ganges</td>\n",
       "      <td>UpperGanges</td>\n",
       "      <td>4652.96</td>\n",
       "    </tr>\n",
       "    <tr>\n",
       "      <th>195</th>\n",
       "      <td>varanasi</td>\n",
       "      <td>006-MGD3VNS</td>\n",
       "      <td>Uttar Pradesh</td>\n",
       "      <td>83.035371</td>\n",
       "      <td>25.320763</td>\n",
       "      <td>Ganges</td>\n",
       "      <td>MiddleGanges</td>\n",
       "      <td>462416.00</td>\n",
       "    </tr>\n",
       "  </tbody>\n",
       "</table>\n",
       "<p>196 rows × 8 columns</p>\n",
       "</div>"
      ],
      "text/plain": [
       "           sta_name       sta_id         State Name    lon_cwc    lat_cwc  \\\n",
       "0    a.b road x-ing   019-CDJAPR     Madhya Pradesh  77.111389  24.346667   \n",
       "1         ahirwalia  003-mgd4ptn              Bihar  85.167222  26.367500   \n",
       "2            aklera   017-CDJAPR          Rajasthan  76.603889  24.429722   \n",
       "3         ankinghat  011-mgd2lkn      Uttar Pradesh  80.035643  26.934361   \n",
       "4         a.p. ghat   010-MBDGHY              Assam  92.803323  24.852918   \n",
       "..              ...          ...                ...        ...        ...   \n",
       "191        turtipar  012-MGD1LKN      Uttar Pradesh  83.880278  26.143611   \n",
       "192          tuting   002-ubddib  Arunachal Pradesh  94.905033  28.990250   \n",
       "193       uskabazar  013-MGD1LKN      Uttar Pradesh  83.125833  27.189722   \n",
       "194      uttarkashi   008-HGDDDN        Uttarakhand  78.356389  30.738889   \n",
       "195        varanasi  006-MGD3VNS      Uttar Pradesh  83.035371  25.320763   \n",
       "\n",
       "           Basin                subbasin  Area [km^2]  \n",
       "0         Ganges                 Chambal      5976.84  \n",
       "1         Ganges             LowerGanges      7722.13  \n",
       "2         Ganges                 Chambal      6142.35  \n",
       "3         Ganges            MiddleGanges     82498.30  \n",
       "4         Meghna                  Meghna     19175.00  \n",
       "..           ...                     ...          ...  \n",
       "191       Ganges                  Ghagra    123504.00  \n",
       "192  Brahmaputra  UpperBrahmaputra-Nyang    242026.00  \n",
       "193       Ganges                  Ghagra      2974.78  \n",
       "194       Ganges             UpperGanges      4652.96  \n",
       "195       Ganges            MiddleGanges    462416.00  \n",
       "\n",
       "[196 rows x 8 columns]"
      ]
     },
     "execution_count": 95,
     "metadata": {},
     "output_type": "execute_result"
    }
   ],
   "source": [
    "# Create a pandas DataFrame using a URL to a CSV file on a file server\n",
    "station_details_URL = 'https://staff.ral.ucar.edu/hopson/GloFAS/Q2Qbiascorrection/glofas_stations_details.CSV'\n",
    "df = pd.read_csv(station_details_URL)\n",
    "df"
   ]
  },
  {
   "cell_type": "markdown",
   "metadata": {},
   "source": [
    "### Convert table (DataFrame) to Spatially-Enabled DataFrame (SEDF)\n",
    "\n",
    "#### Spatially Enabled Data Frames\n",
    "\n",
    "A powerful feature that the `arcgis` library introduces is the [`Spatially Enabled Data Frame`](https://developers.arcgis.com/python/guide/introduction-to-the-spatially-enabled-dataframe/).  This adds geospatial functionality to the standard Pandas `DataFrame` object.\n",
    "\n",
    "Loading data into a spatially enabled dataframe is fairly simple.  For example, the `from_xy` function that is available in the spatial extension added by `arcgis` to the pandas `DataFrame` object can be used to load data directly from a pandas `DataFrame` object. In this case, the SEDF is created below directly from the existing pandas DataFrame object by calling `spatial.from_xy` and defining the columns that represent the coordinate data, and providing a coordinte system definition.\n",
    "\n",
    "More information on spatially-enabled dataframes:\n",
    "   \n",
    "1.   [Reading data into SEDFs](https://developers.arcgis.com/python/guide/part2-data-io-reading-data/)\n",
    "   \n",
    "2.   [Visualizing Data in SEDFs](https://developers.arcgis.com/python/guide/visualizing-data-with-the-spatially-enabled-dataframe/)\n",
    "   \n",
    "3.   [SEDF Advanced Topics](https://developers.arcgis.com/python/guide/spatially-enabled-dataframe-advanced-topics/)\n",
    "   "
   ]
  },
  {
   "cell_type": "code",
   "execution_count": 96,
   "metadata": {},
   "outputs": [
    {
     "data": {
      "text/html": [
       "<div>\n",
       "<style scoped>\n",
       "    .dataframe tbody tr th:only-of-type {\n",
       "        vertical-align: middle;\n",
       "    }\n",
       "\n",
       "    .dataframe tbody tr th {\n",
       "        vertical-align: top;\n",
       "    }\n",
       "\n",
       "    .dataframe thead th {\n",
       "        text-align: right;\n",
       "    }\n",
       "</style>\n",
       "<table border=\"1\" class=\"dataframe\">\n",
       "  <thead>\n",
       "    <tr style=\"text-align: right;\">\n",
       "      <th></th>\n",
       "      <th>sta_name</th>\n",
       "      <th>sta_id</th>\n",
       "      <th>State Name</th>\n",
       "      <th>lon_cwc</th>\n",
       "      <th>lat_cwc</th>\n",
       "      <th>Basin</th>\n",
       "      <th>subbasin</th>\n",
       "      <th>Area [km^2]</th>\n",
       "      <th>SHAPE</th>\n",
       "    </tr>\n",
       "  </thead>\n",
       "  <tbody>\n",
       "    <tr>\n",
       "      <th>0</th>\n",
       "      <td>a.b road x-ing</td>\n",
       "      <td>019-CDJAPR</td>\n",
       "      <td>Madhya Pradesh</td>\n",
       "      <td>77.111389</td>\n",
       "      <td>24.346667</td>\n",
       "      <td>Ganges</td>\n",
       "      <td>Chambal</td>\n",
       "      <td>5976.84</td>\n",
       "      <td>{\"spatialReference\": {\"wkid\": 4326}, \"x\": 77.1...</td>\n",
       "    </tr>\n",
       "    <tr>\n",
       "      <th>1</th>\n",
       "      <td>ahirwalia</td>\n",
       "      <td>003-mgd4ptn</td>\n",
       "      <td>Bihar</td>\n",
       "      <td>85.167222</td>\n",
       "      <td>26.367500</td>\n",
       "      <td>Ganges</td>\n",
       "      <td>LowerGanges</td>\n",
       "      <td>7722.13</td>\n",
       "      <td>{\"spatialReference\": {\"wkid\": 4326}, \"x\": 85.1...</td>\n",
       "    </tr>\n",
       "    <tr>\n",
       "      <th>2</th>\n",
       "      <td>aklera</td>\n",
       "      <td>017-CDJAPR</td>\n",
       "      <td>Rajasthan</td>\n",
       "      <td>76.603889</td>\n",
       "      <td>24.429722</td>\n",
       "      <td>Ganges</td>\n",
       "      <td>Chambal</td>\n",
       "      <td>6142.35</td>\n",
       "      <td>{\"spatialReference\": {\"wkid\": 4326}, \"x\": 76.6...</td>\n",
       "    </tr>\n",
       "    <tr>\n",
       "      <th>3</th>\n",
       "      <td>ankinghat</td>\n",
       "      <td>011-mgd2lkn</td>\n",
       "      <td>Uttar Pradesh</td>\n",
       "      <td>80.035643</td>\n",
       "      <td>26.934361</td>\n",
       "      <td>Ganges</td>\n",
       "      <td>MiddleGanges</td>\n",
       "      <td>82498.30</td>\n",
       "      <td>{\"spatialReference\": {\"wkid\": 4326}, \"x\": 80.0...</td>\n",
       "    </tr>\n",
       "    <tr>\n",
       "      <th>4</th>\n",
       "      <td>a.p. ghat</td>\n",
       "      <td>010-MBDGHY</td>\n",
       "      <td>Assam</td>\n",
       "      <td>92.803323</td>\n",
       "      <td>24.852918</td>\n",
       "      <td>Meghna</td>\n",
       "      <td>Meghna</td>\n",
       "      <td>19175.00</td>\n",
       "      <td>{\"spatialReference\": {\"wkid\": 4326}, \"x\": 92.8...</td>\n",
       "    </tr>\n",
       "  </tbody>\n",
       "</table>\n",
       "</div>"
      ],
      "text/plain": [
       "         sta_name       sta_id      State Name    lon_cwc    lat_cwc   Basin  \\\n",
       "0  a.b road x-ing   019-CDJAPR  Madhya Pradesh  77.111389  24.346667  Ganges   \n",
       "1       ahirwalia  003-mgd4ptn           Bihar  85.167222  26.367500  Ganges   \n",
       "2          aklera   017-CDJAPR       Rajasthan  76.603889  24.429722  Ganges   \n",
       "3       ankinghat  011-mgd2lkn   Uttar Pradesh  80.035643  26.934361  Ganges   \n",
       "4       a.p. ghat   010-MBDGHY           Assam  92.803323  24.852918  Meghna   \n",
       "\n",
       "       subbasin  Area [km^2]  \\\n",
       "0       Chambal      5976.84   \n",
       "1   LowerGanges      7722.13   \n",
       "2       Chambal      6142.35   \n",
       "3  MiddleGanges     82498.30   \n",
       "4        Meghna     19175.00   \n",
       "\n",
       "                                               SHAPE  \n",
       "0  {\"spatialReference\": {\"wkid\": 4326}, \"x\": 77.1...  \n",
       "1  {\"spatialReference\": {\"wkid\": 4326}, \"x\": 85.1...  \n",
       "2  {\"spatialReference\": {\"wkid\": 4326}, \"x\": 76.6...  \n",
       "3  {\"spatialReference\": {\"wkid\": 4326}, \"x\": 80.0...  \n",
       "4  {\"spatialReference\": {\"wkid\": 4326}, \"x\": 92.8...  "
      ]
     },
     "execution_count": 96,
     "metadata": {},
     "output_type": "execute_result"
    }
   ],
   "source": [
    "# Create a spatially enabled data frame\n",
    "sedf = pd.DataFrame.spatial.from_xy(df=df, x_column='lon_cwc', y_column='lat_cwc', sr=4326)\n",
    "\n",
    "# Check head for SHAPE column\n",
    "sedf.head()"
   ]
  },
  {
   "cell_type": "markdown",
   "metadata": {},
   "source": [
    "Once in memory, the spatially enabled data frame includes all of the capabilities of a regular Pandas `DataFrame` object for working with tabular data.  It also includes an additional `SHAPE` column that describes the geometry associated with each record in the table, and enables the data frame to be used with a variety of spatial functions provided by the `arcgis` libary.\n",
    "\n",
    "For example, addtional spatial functionality for spatially enabled `DataFrame` objects can be accessed through the `spatial` property. To preview the various spatial functions available with a spatially enabled data frame object, place the cursor at the end of the line of code in the next cell, and press the `Tab` key:"
   ]
  },
  {
   "cell_type": "code",
   "execution_count": 97,
   "metadata": {},
   "outputs": [
    {
     "ename": "SyntaxError",
     "evalue": "invalid syntax (<string>, line 1)",
     "output_type": "error",
     "traceback": [
      "\u001b[0;31m---------------------------------------------------------------------------\u001b[0m\n\u001b[0;31mSyntaxError\u001b[0m                               Traceback (most recent call last)",
      "File \u001b[0;34mC:\\Users\\ksampson\\AppData\\Local\\ESRI\\conda\\envs\\arcgispro-py3-clone\\lib\\ast.py\u001b[0m, in \u001b[0;32mparse\u001b[0m:\nLine \u001b[0;34m50\u001b[0m:    \u001b[34mreturn\u001b[39;49;00m \u001b[36mcompile\u001b[39;49;00m(source, filename, mode, flags,\u001b[37m\u001b[39;49;00m\n",
      "\u001b[0;31mSyntaxError\u001b[0m: invalid syntax (<string>, line 1)\n\u001b[0;31m---------------------------------------------------------------------------\u001b[0m"
     ]
    }
   ],
   "source": [
    "sedf.spatial."
   ]
  },
  {
   "cell_type": "markdown",
   "metadata": {},
   "source": [
    "Depending on what other Python modules you need to use in your analysis, you may need to manipulate or prepare your data in different ways.  For example, you may need to represent your data as a simple text representation of GeoJSON.  Do do this, you can execute the following two lines to convert the spatially enabled data frame to a `FeatureSet` object (from the `arcgis.features` module).  A `FeatureSet` object provides a property that converts its contents to GeoJSON text format:"
   ]
  },
  {
   "cell_type": "code",
   "execution_count": null,
   "metadata": {},
   "outputs": [],
   "source": [
    "station_fset = sedf.spatial.to_featureset()\n",
    "station_json = station_fset.to_geojson"
   ]
  },
  {
   "cell_type": "code",
   "execution_count": null,
   "metadata": {},
   "outputs": [],
   "source": [
    "station_fset"
   ]
  },
  {
   "cell_type": "markdown",
   "metadata": {},
   "source": [
    "Some of the capabilities for working with spatially enabled data frame objects will be explored in more detail one of the later notebooks of this tutorial.\n",
    "\n",
    "#### Exporting GIS datasets\n",
    "\n",
    "When you are finished performing analysis in your notebook, you will likely want to save your results to datasets that can be used in other contexts, or shared to others.\n",
    "\n",
    "For example, to save your data to a new feature class in your local filesystem, you can easily excute the `to_featureclass` function.\n",
    "\n",
    "Alternatively, you can publish your data directly to your ArcgGIS Online or ArcGIS Enterprise content as a new feature layer, enabling you to use it in ArcGIS web maps, story maps, dashboards, etc.:"
   ]
  },
  {
   "cell_type": "code",
   "execution_count": null,
   "metadata": {},
   "outputs": [],
   "source": [
    "feature_layer = sedf.spatial.to_featurelayer(\"analysis_locations\")"
   ]
  },
  {
   "cell_type": "code",
   "execution_count": null,
   "metadata": {},
   "outputs": [],
   "source": [
    "feature_layer"
   ]
  },
  {
   "cell_type": "markdown",
   "metadata": {},
   "source": [
    "### Create a map widget for displaying station locations\n",
    "\n",
    "One advantage of using SEDFs is the ability to plot the data in an interactive [map widget](https://developers.arcgis.com/python/guide/using-the-map-widget/). This can be a handy way of viewing the data. If you click a feature on the map, you will get a popup of the data for that fature (row) from the other fields in the SEDF.\n",
    "\n",
    "The map widget can be configured for a particular area, zoom level, size on the page, and can be centered on a point. Here, we will set the center of the map widget to the centroid of the spatial extent of the data in the SEDF. "
   ]
  },
  {
   "cell_type": "code",
   "execution_count": null,
   "metadata": {},
   "outputs": [],
   "source": [
    "# Get bounding box and calculate centroid\n",
    "sedf_geoextent_geom = sedf.spatial.bbox\n",
    "centroid = sedf_geoextent_geom.centroid"
   ]
  },
  {
   "cell_type": "code",
   "execution_count": null,
   "metadata": {},
   "outputs": [],
   "source": [
    "# Passing a place name to the constructor will initialize the extent of the map.\n",
    "m1 = gis.map('India', zoomlevel=6)\n",
    "\n",
    "# Change the size of the map widget\n",
    "m1.layout = Layout(flex='1 1', padding='0px', height='600px')\n",
    "\n",
    "# Plot the SEDF on the map\n",
    "sedf.spatial.plot(map_widget=m1)\n",
    "\n",
    "# Zoom to the layer\n",
    "m1.zoom_to_layer(sedf)\n",
    "\n",
    "# Specify map center point. Must reverse coordinate order here\n",
    "m1.center = centroid[::-1]     \n",
    "\n",
    "# Plot the map\n",
    "m1"
   ]
  },
  {
   "cell_type": "markdown",
   "metadata": {},
   "source": [
    "Click on some of the points in the map widget to see the data available from the DataFrame."
   ]
  },
  {
   "cell_type": "markdown",
   "metadata": {},
   "source": [
    "### Add useful layers to the map from ArcGIS Online\n",
    "\n",
    "We will create the same map widget as before, but add a [layer](https://www.arcgis.com/home/item.html?id=9f86716d941c4410b0b406d911754b2c) from ArcGIS Online.\n",
    "\n",
    "Other customizations you may wish to make could be the basemap drawn under your data on the map widget. You can find a list of available basemaps by calling the `gis.map().basemaps` function."
   ]
  },
  {
   "cell_type": "code",
   "execution_count": 98,
   "metadata": {},
   "outputs": [
    {
     "name": "stdout",
     "output_type": "stream",
     "text": [
      "[<MapFeatureLayer url:\"https://tiles.arcgis.com/tiles/P3ePLMYs2RVChkJx/arcgis/rest/services/Esri_Hydro_Reference_Overlay/MapServer/0\">]\n"
     ]
    }
   ],
   "source": [
    "# Add world hydro reference overlay: \n",
    "item = gis.content.get(\"9f86716d941c4410b0b406d911754b2c\")  # World Hydro Reference Overlay\n",
    "print(item.layers)"
   ]
  },
  {
   "cell_type": "code",
   "execution_count": 99,
   "metadata": {},
   "outputs": [
    {
     "data": {
      "application/vnd.jupyter.widget-view+json": {
       "model_id": "02a80705a1104a09aa98c68451849ad8",
       "version_major": 2,
       "version_minor": 0
      },
      "text/plain": [
       "MapView(layout=Layout(flex='1 1', height='600px', padding='0px'))"
      ]
     },
     "metadata": {},
     "output_type": "display_data"
    },
    {
     "data": {
      "text/html": [
       "<div class=\"map-static-img-preview-bd807b1b-dd68-449e-ba2e-527f5f5aa670\"><img src=\"\"></img></div>"
      ],
      "text/plain": [
       "<display.HTML object>"
      ]
     },
     "metadata": {},
     "output_type": "display_data"
    },
    {
     "data": {
      "text/html": [
       "<div class=\"map-html-embed-preview-bd807b1b-dd68-449e-ba2e-527f5f5aa670\"></div>"
      ],
      "text/plain": [
       "<display.HTML object>"
      ]
     },
     "metadata": {},
     "output_type": "display_data"
    }
   ],
   "source": [
    "# Passing a place name to the constructor will initialize the extent of the map.\n",
    "m2 = gis.map('India', zoomlevel=12)\n",
    "\n",
    "m2.add_layer(item.layers[0])\n",
    "\n",
    "# Change the size of the map widget\n",
    "m2.layout = Layout(flex='1 1', padding='0px', height='600px')\n",
    "\n",
    "# Specify map center point. Must reverse coordinate order here    \n",
    "m2.center = [18.4571,73.7870] # here we are setting the map's center to NWA\n",
    "\n",
    "# Plot the map\n",
    "m2"
   ]
  },
  {
   "cell_type": "markdown",
   "metadata": {},
   "source": [
    "### You can use the ArcGIS API for Python to search for content in ArcGIS Online using the `.content.search` function\n",
    "\n",
    "There is a powerful [search](https://developers.arcgis.com/python/guide/accessing-and-creating-content/) function that can be used to find data. \n",
    "\n",
    "First, you can search using a string. This will default to searching your ArcGIS Online Organization. Set `outside_org=True` to search all of ArcGIS Online."
   ]
  },
  {
   "cell_type": "code",
   "execution_count": 100,
   "metadata": {},
   "outputs": [
    {
     "name": "stdout",
     "output_type": "stream",
     "text": [
      "<Item title:\"GEOGloWS ECMWF Streamflow System (6 Day Forecast)\" type:Map Image Layer owner:esri>\n",
      "<Item title:\"GeoGlows\" type:Web Mapping Application owner:906717_rhdhv>\n",
      "<Item title:\"testpdf\" type:PDF owner:vsheth_amerigeoss>\n",
      "<Item title:\"GEO Global Water Sustainability (GEOGLOWS)\" type:Document Link owner:rich_amerigeoss>\n",
      "<Item title:\"Historical Validation Tool Colombia\" type:Web Mapping Application owner:annelisemcapener_amerigeoss>\n",
      "<Item title:\"Global Stream Flow Web Map-Copy\" type:Web Map owner:GEOG1301_Group9>\n",
      "<Item title:\"Nepal - Data Validation\" type:Web Map owner:spence97>\n",
      "<Item title:\"Stream Flow with Stream Gauges\" type:Web Map owner:Easy2BGreen>\n",
      "<Item title:\"Water Quality\" type:Hub Page owner:BakalDagnachew_amerigeoss>\n",
      "<Item title:\"GEOGLOWS Partners\" type:Hub Page owner:rich_amerigeoss>\n"
     ]
    }
   ],
   "source": [
    "search_items = gis.content.search(\"GEOGLOWS\", outside_org=True)\n",
    "for search_item in search_items:\n",
    "    print(search_item)"
   ]
  },
  {
   "cell_type": "markdown",
   "metadata": {},
   "source": [
    "Next, you can display one or more search results in the cell output, which will render a card with information and links to the URL for the service."
   ]
  },
  {
   "cell_type": "code",
   "execution_count": 101,
   "metadata": {},
   "outputs": [
    {
     "data": {
      "text/html": [
       "<div class=\"item_container\" style=\"height: auto; overflow: hidden; border: 1px solid #cfcfcf; border-radius: 2px; background: #f6fafa; line-height: 1.21429em; padding: 10px;\">\n",
       "                    <div class=\"item_left\" style=\"width: 210px; float: left;\">\n",
       "                       <a href='https://www.arcgis.com//home/item.html?id=5c2e6d2137bb4d2187db387979db2f31' target='_blank'>\n",
       "                        <img src='data:image/png;base64,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' width='200' height='133' class=\"itemThumbnail\">\n",
       "                       </a>\n",
       "                    </div>\n",
       "\n",
       "                    <div class=\"item_right\"     style=\"float: none; width: auto; overflow: hidden;\">\n",
       "                        <a href='https://www.arcgis.com//home/item.html?id=5c2e6d2137bb4d2187db387979db2f31' target='_blank'><b>GEOGloWS ECMWF Streamflow System (6 Day Forecast)</b>\n",
       "                        </a>\n",
       "                        <br/>Six day river forecast from the European Centre for Medium-range Weather Forecasting (ECMWF), with streamflow reported in 3 hour time intervals. A Global Water Model service updated once daily.<img src='https://www.arcgis.com//home/js/jsapi/esri/css/images/item_type_icons/mapimages16.png' style=\"vertical-align:middle;\">Map Image Layer by esri\n",
       "                        <br/>Last Modified: June 01, 2022\n",
       "                        <br/>1 comments, 96,268 views\n",
       "                    </div>\n",
       "                </div>\n",
       "                "
      ],
      "text/plain": [
       "<Item title:\"GEOGloWS ECMWF Streamflow System (6 Day Forecast)\" type:Map Image Layer owner:esri>"
      ]
     },
     "metadata": {},
     "output_type": "display_data"
    }
   ],
   "source": [
    "display(search_items[0])"
   ]
  },
  {
   "cell_type": "markdown",
   "metadata": {},
   "source": [
    "You can obtain the ID for the item from the search result and store the item number as a variable or obtain the item directly using the item's ArcGIS Online ID using the `.get` method."
   ]
  },
  {
   "cell_type": "code",
   "execution_count": 102,
   "metadata": {},
   "outputs": [
    {
     "name": "stdout",
     "output_type": "stream",
     "text": [
      "Item ID: 5c2e6d2137bb4d2187db387979db2f31\n"
     ]
    },
    {
     "data": {
      "text/html": [
       "<div class=\"item_container\" style=\"height: auto; overflow: hidden; border: 1px solid #cfcfcf; border-radius: 2px; background: #f6fafa; line-height: 1.21429em; padding: 10px;\">\n",
       "                    <div class=\"item_left\" style=\"width: 210px; float: left;\">\n",
       "                       <a href='https://www.arcgis.com//home/item.html?id=5c2e6d2137bb4d2187db387979db2f31' target='_blank'>\n",
       "                        <img src='data:image/png;base64,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' width='200' height='133' class=\"itemThumbnail\">\n",
       "                       </a>\n",
       "                    </div>\n",
       "\n",
       "                    <div class=\"item_right\"     style=\"float: none; width: auto; overflow: hidden;\">\n",
       "                        <a href='https://www.arcgis.com//home/item.html?id=5c2e6d2137bb4d2187db387979db2f31' target='_blank'><b>GEOGloWS ECMWF Streamflow System (6 Day Forecast)</b>\n",
       "                        </a>\n",
       "                        <br/>Six day river forecast from the European Centre for Medium-range Weather Forecasting (ECMWF), with streamflow reported in 3 hour time intervals. A Global Water Model service updated once daily.<img src='https://www.arcgis.com//home/js/jsapi/esri/css/images/item_type_icons/mapimages16.png' style=\"vertical-align:middle;\">Map Image Layer by esri\n",
       "                        <br/>Last Modified: June 01, 2022\n",
       "                        <br/>1 comments, 96,269 views\n",
       "                    </div>\n",
       "                </div>\n",
       "                "
      ],
      "text/plain": [
       "<Item title:\"GEOGloWS ECMWF Streamflow System (6 Day Forecast)\" type:Map Image Layer owner:esri>"
      ]
     },
     "execution_count": 102,
     "metadata": {},
     "output_type": "execute_result"
    }
   ],
   "source": [
    "# Obtain ID for the desired Layer from search results\n",
    "known_item_id = search_items[0].id                     # Request ID from search results. \"5c2e6d2137bb4d2187db387979db2f31\"\n",
    "print('Item ID: {0}'.format(known_item_id))\n",
    "\n",
    "# lets use the get() to access this item\n",
    "online_item = gis.content.get(known_item_id)\n",
    "online_item"
   ]
  },
  {
   "cell_type": "markdown",
   "metadata": {},
   "source": [
    "Users may also call the URL dircely as input to a function that will construct a `FeauteLayerCollection`"
   ]
  },
  {
   "cell_type": "code",
   "execution_count": 103,
   "metadata": {},
   "outputs": [
    {
     "name": "stdout",
     "output_type": "stream",
     "text": [
      "Layer Names in Feature Layer Collection: ['Flow Forecast (m³/sec)']\n"
     ]
    },
    {
     "data": {
      "text/plain": [
       "<FeatureLayer url:\"https://livefeeds2.arcgis.com/arcgis/rest/services/GEOGLOWS/GlobalWaterModel_Medium/MapServer/0\">"
      ]
     },
     "execution_count": 103,
     "metadata": {},
     "output_type": "execute_result"
    }
   ],
   "source": [
    "from arcgis.features import FeatureLayerCollection\n",
    "\n",
    "# URL for the ArcGIS Feature Service of GeoGLOWs data\n",
    "geoglows_url = r'https://livefeeds2.arcgis.com/arcgis/rest/services/GEOGLOWS/GlobalWaterModel_Medium/MapServer'\n",
    "geoglows = FeatureLayerCollection(geoglows_url)\n",
    "\n",
    "# Get Layer names from feature layer collection\n",
    "geoglows_layer_names = [layer.properties.name for layer in geoglows.layers]\n",
    "print(\"Layer Names in Feature Layer Collection: {0}\".format(geoglows_layer_names))\n",
    "\n",
    "# Print URL for Feature Layer\n",
    "geoglows.layers[0]"
   ]
  },
  {
   "cell_type": "code",
   "execution_count": 104,
   "metadata": {},
   "outputs": [
    {
     "data": {
      "application/vnd.jupyter.widget-view+json": {
       "model_id": "9cc6c1bbce2a4339aec5f8f161282aba",
       "version_major": 2,
       "version_minor": 0
      },
      "text/plain": [
       "MapView(layout=Layout(flex='1 1', height='400px', padding='0px', width='800px'))"
      ]
     },
     "metadata": {},
     "output_type": "display_data"
    },
    {
     "data": {
      "text/html": [
       "<div class=\"map-static-img-preview-42530c62-a279-46eb-8384-35e85a59881c\"><img src=\"\"></img></div>"
      ],
      "text/plain": [
       "<display.HTML object>"
      ]
     },
     "metadata": {},
     "output_type": "display_data"
    },
    {
     "data": {
      "text/html": [
       "<div class=\"map-html-embed-preview-42530c62-a279-46eb-8384-35e85a59881c\"></div>"
      ],
      "text/plain": [
       "<display.HTML object>"
      ]
     },
     "metadata": {},
     "output_type": "display_data"
    }
   ],
   "source": [
    "# Passing a place name to the constructor will initialize the extent of the map.\n",
    "m3 = gis.map('India', zoomlevel=12)\n",
    "    \n",
    "# Add layer if it returns a valid HTTP code\n",
    "if gis.content.check_url(geoglows_url)['httpStatusCode']==200:\n",
    "    m3.add_layer(geoglows.layers[0])\n",
    "    \n",
    "# Change the size of the map widget. Limit the size to get the feature layer to draw some features quickly.\n",
    "m3.layout = Layout(flex='1 1', padding='0px', height='400px', width='800px')\n",
    "\n",
    "# Specify map center point. Must reverse coordinate order here\n",
    "m3.center = [18.4571,73.7870] # here we are setting the map's center to NWA\n",
    "\n",
    "# Set a particular basemap\n",
    "m3.basemap = 'gray-vector'\n",
    "\n",
    "# Plot the map\n",
    "m3"
   ]
  },
  {
   "cell_type": "markdown",
   "metadata": {},
   "source": [
    "### Add layers to a map within ArcGIS Pro\n",
    "\n",
    "You may want to add a layer from ArcGIS Online or another GIS Feature Service to your ArcGIS Pro active map session. To accomplish this, instead of creating a map widget, we will add the layer into one of our ArcGIS Pro maps.\n",
    "\n",
    "In order to do this, we will use the `MakeFeatureLayer_management` tool in `arcpy`, which is a geosprocessing tool and automatically adds the results as a layer in the active map. However, we will want to make sure \n",
    "to add this map to a specific map in our ArcGIS Pro project. The code below will make a feature layer using the URL of the GeoGLOWS feature service, and then if it does not already exist in the GeoGLOWS map in \n",
    "this ArcGIS Pro session, it will add the layer using the ArcGIS API for Python `addLayer` syntax.\n",
    "\n",
    "NOTE: To make sure that the GeoGLOWS map is the active map in ArcGIS Pro, click on the GeoGLOWS map tab and then return to this notebook before executing the next cell."
   ]
  },
  {
   "cell_type": "code",
   "execution_count": 105,
   "metadata": {},
   "outputs": [],
   "source": [
    "# Add the Feautre Service as a layer to the current map view\n",
    "from arcgis.features import FeatureLayer\n",
    "\n",
    "# To add the layer to the map, we must first make a feature layer\n",
    "arcpy.MakeFeatureLayer_management(geoglows.layers[0].url, geoglows_layer_names[0])\n",
    "\n",
    "# Get a list of map layers for the GeoGLOWS map\n",
    "m = aprx.listMaps(\"GeoGLOWS\")[0]\n",
    "map_layer_names = [layer.name for layer in m.listLayers()]\n",
    "\n",
    "if geoglows_layer_names[0] not in map_layer_names:\n",
    "    \n",
    "    # Add the already-existing layer to the current map view\n",
    "    m.addLayer(FeatureLayer(geoglows_layer_names[0], \"TOP\"))"
   ]
  },
  {
   "cell_type": "markdown",
   "metadata": {},
   "source": [
    "Now, we will pull in a layer of reservoirs from a known ArcGIS Online location."
   ]
  },
  {
   "cell_type": "code",
   "execution_count": 106,
   "metadata": {},
   "outputs": [
    {
     "data": {
      "text/html": [
       "<div class=\"item_container\" style=\"height: auto; overflow: hidden; border: 1px solid #cfcfcf; border-radius: 2px; background: #f6fafa; line-height: 1.21429em; padding: 10px;\">\n",
       "                    <div class=\"item_left\" style=\"width: 210px; float: left;\">\n",
       "                       <a href='https://www.arcgis.com//home/item.html?id=34b71f5ea24b49ce857e8ee5e71a4117' target='_blank'>\n",
       "                        <img src='data:image/png;base64,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' width='200' height='133' class=\"itemThumbnail\">\n",
       "                       </a>\n",
       "                    </div>\n",
       "\n",
       "                    <div class=\"item_right\"     style=\"float: none; width: auto; overflow: hidden;\">\n",
       "                        <a href='https://www.arcgis.com//home/item.html?id=34b71f5ea24b49ce857e8ee5e71a4117' target='_blank'><b>India: National Register of Large Dams 2019 (Polygon)</b>\n",
       "                        </a>\n",
       "                        <br/>This layer shows the information of large dams compiled and maintained by CWC. The nationwide register of large dams i.e. National Register of Large Dams (NRLD) was published in June 2019.<img src='https://www.arcgis.com//home/js/jsapi/esri/css/images/item_type_icons/featureshosted16.png' style=\"vertical-align:middle;\">Feature Layer Collection by esri_IN_content\n",
       "                        <br/>Last Modified: August 19, 2022\n",
       "                        <br/>0 comments, 867 views\n",
       "                    </div>\n",
       "                </div>\n",
       "                "
      ],
      "text/plain": [
       "<Item title:\"India: National Register of Large Dams 2019 (Polygon)\" type:Feature Layer Collection owner:esri_IN_content>"
      ]
     },
     "execution_count": 106,
     "metadata": {},
     "output_type": "execute_result"
    }
   ],
   "source": [
    "# India Reservoirs layer ID in Living Atlas\n",
    "CWC_Reservoirs = \"34b71f5ea24b49ce857e8ee5e71a4117\"\n",
    "item = gis.content.get(CWC_Reservoirs)\n",
    "item"
   ]
  },
  {
   "cell_type": "code",
   "execution_count": 107,
   "metadata": {},
   "outputs": [],
   "source": [
    "# Add the Feautre Layer Collection as a layer to the current map view\n",
    "cwc_res_layer_names = [layer.properties.name for layer in item.layers]\n",
    "\n",
    "# To add the layer to the map, we must first make a feature layer\n",
    "arcpy.MakeFeatureLayer_management(item.url, cwc_res_layer_names[0])\n",
    "\n",
    "# Get a list of map layers for the GeoGLOWS map\n",
    "m = aprx.listMaps(\"GeoGLOWS\")[0]\n",
    "map_layer_names = [layer.name for layer in m.listLayers()]\n",
    "\n",
    "if cwc_res_layer_names[0] not in map_layer_names:\n",
    "    \n",
    "    # Add the already-existing layer to the current map view\n",
    "    m.addLayer(FeatureLayer(cwc_res_layer_names[0], \"TOP\"))"
   ]
  },
  {
   "cell_type": "markdown",
   "metadata": {},
   "source": [
    "### Examine the feature service in ArcGIS Pro\n",
    "\n",
    "You have added the GeoGLOWS forecast layer into your GEOWloWS map within ArcGIS Pro. This is a streafmlow forecast and is time-enabled. \n",
    "\n",
    "Click on the GEOGloWS map window and explore this data before saving the map document and moving to the next lesson."
   ]
  },
  {
   "cell_type": "code",
   "execution_count": 108,
   "metadata": {},
   "outputs": [],
   "source": [
    "aprx.save()"
   ]
  },
  {
   "cell_type": "markdown",
   "metadata": {},
   "source": [
    "### Reset the namespace\n",
    "\n",
    "The following `%reset -f` command is a built-in command in Jupyter Notebook that will reset the namespace. This is good practice to run when you are finished with the notebook."
   ]
  },
  {
   "cell_type": "code",
   "execution_count": null,
   "metadata": {},
   "outputs": [],
   "source": [
    "%reset -f"
   ]
  },
  {
   "cell_type": "markdown",
   "metadata": {},
   "source": [
    "# Next up - Introduction to ArcGIS Notebooks\n",
    "\n",
    "This concludes Lesson **N2 - Visualize Station Data**. In the next lesson, we will learn more about using Python and ArcGIS Notebooks.\n",
    "\n",
    "**IT IS BEST TO EITHER SHUTDOWN THIS LESSON OR CLOSE IT BEFORE PROCEEDING TO THE NEXT LESSON TO AVOID POSSIBLY EXCEEDING ALLOCATED MEMORY. Select `Command Pallette -> restart kernel`.**\n",
    "\n",
    "© UCAR 2023"
   ]
  }
 ],
 "metadata": {
  "kernelspec": {
   "display_name": "ArcGISPro",
   "language": "Python",
   "name": "python3"
  },
  "language_info": {
   "file_extension": ".py",
   "name": "python",
   "version": "3"
  }
 },
 "nbformat": 4,
 "nbformat_minor": 4
}
