{
 "cells": [
  {
   "cell_type": "markdown",
   "metadata": {},
   "source": [
    "# Examine Streamflow Data\n",
    "\n",
    "In this Notebook, we will walk through a number of topics, including:\n",
    "\n",
    "* Reading tabular data using a URL\n",
    "* Creating a Spatially Enabled DataFrame\n",
    "* Displaying point data on an ArcGIS Map Widget\n",
    "* Adding layers from ArcGIS Online into the Map Widget\n",
    "\n",
    "We will use a list of known observation gauge locations in a tabular format (CSV) and examine the tabular data as a table (DataFrame). Then, we will 'spatially enable' the data and examine the resulting features on an interactive map. Finally, we will enrich the data by bringing into the map additional data from the Esri Cloud (ArcGIS Online).\n",
    "\n",
    "This notebook is an Esri Notebook, designed to be run in the ArcGIS Pro environment. Please do not open with Jupyter or Jupyter Lab. "
   ]
  },
  {
   "cell_type": "markdown",
   "metadata": {},
   "source": [
    "### Import libraries\n",
    "\n",
    "The beginning of any script or Notebook will include importing Python modules (libraries) and functions that we will need in the following workflow.\n",
    "\n",
    "In this Esri Notebook, we will import the following libraries:\n",
    "\n",
    "* `sys` and `os` for operating system functions, such as finding or constructing a file path\n",
    "* `arcpy` for accessing information about the current Map document (.aprx).\n",
    "* Other libraries, and variables from the `00_environment_setup.ipynb` notebook that will be used throughout the training."
   ]
  },
  {
   "cell_type": "code",
   "execution_count": null,
   "metadata": {},
   "outputs": [],
   "source": [
    "# Find the directory of the current project and add to PATH\n",
    "import sys, os, arcpy\n",
    "home_folder = arcpy.mp.ArcGISProject(\"current\").homeFolder\n",
    "sys.path.insert(0, home_folder)\n",
    "os.chdir(home_folder)\n",
    "\n",
    "# The 00_environment_setup notebook contains libraries and other things common to all the notebooks (e.g. file paths)\n",
    "%run \"00_environment_setup.ipynb\""
   ]
  },
  {
   "cell_type": "markdown",
   "metadata": {},
   "source": [
    "### Read file from URL\n",
    "\n",
    "Read the CSV file from a URL to a `pandas` [DataFrame](https://pandas.pydata.org/docs/user_guide/dsintro.html#dataframe) object. A DataFrame is a 2 dimensional labeled data structure with columns of potentially different data types. This is commonly referred to as a data table. \n",
    "\n",
    "One of the most common methods of creating a DataFrame object is to read it from a text file. In this case, we will read a CSV file from an NCAR data server and create the table. Once the object is create, you can visualize a condensed view of the table in Jupyter by calling the ojbect"
   ]
  },
  {
   "cell_type": "code",
   "execution_count": null,
   "metadata": {},
   "outputs": [],
   "source": [
    "# Create a pandas DataFrame using a URL to a CSV file on a file server\n",
    "station_details_URL = 'https://staff.ral.ucar.edu/hopson/GloFAS/Q2Qbiascorrection/glofas_stations_details.CSV'\n",
    "df = pd.read_csv(station_details_URL)\n",
    "df"
   ]
  },
  {
   "cell_type": "markdown",
   "metadata": {},
   "source": [
    "### Convert table (DataFrame) to Spatially-Enabled DataFrame (SEDF)\n",
    "\n",
    "#### Spatially Enabled Data Frames\n",
    "\n",
    "A powerful feature that the `arcgis` library introduces is the [`Spatially Enabled Data Frame`](https://developers.arcgis.com/python/guide/introduction-to-the-spatially-enabled-dataframe/).  This adds geospatial functionality to the standard Pandas `DataFrame` object.\n",
    "\n",
    "Loading data into a spatially enabled dataframe is fairly simple.  For example, the `from_xy` function that is available in the spatial extension added by `arcgis` to the pandas `DataFrame` object can be used to load data directly from a pandas `DataFrame` object. In this case, the SEDF is created below directly from the existing pandas DataFrame object by calling `spatial.from_xy` and defining the columns that represent the coordinate data, and providing a coordinte system definition.\n",
    "\n",
    "More information on spatially-enabled dataframes:\n",
    "   \n",
    "1.   [Reading data into SEDFs](https://developers.arcgis.com/python/guide/part2-data-io-reading-data/)\n",
    "   \n",
    "2.   [Visualizing Data in SEDFs](https://developers.arcgis.com/python/guide/visualizing-data-with-the-spatially-enabled-dataframe/)\n",
    "   \n",
    "3.   [SEDF Advanced Topics](https://developers.arcgis.com/python/guide/spatially-enabled-dataframe-advanced-topics/)\n",
    "   "
   ]
  },
  {
   "cell_type": "code",
   "execution_count": null,
   "metadata": {},
   "outputs": [],
   "source": [
    "# Create a spatially enabled data frame\n",
    "sedf = pd.DataFrame.spatial.from_xy(df=df, x_column='lon_cwc', y_column='lat_cwc', sr=4326)\n",
    "\n",
    "# Check head for SHAPE column\n",
    "sedf.head()"
   ]
  },
  {
   "cell_type": "markdown",
   "metadata": {},
   "source": [
    "Once in memory, the spatially enabled data frame includes all of the capabilities of a regular Pandas `DataFrame` object for working with tabular data.  It also includes an additional `SHAPE` column that describes the geometry associated with each record in the table, and enables the data frame to be used with a variety of spatial functions provided by the `arcgis` libary.\n",
    "\n",
    "For example, addtional spatial functionality for spatially enabled `DataFrame` objects can be accessed through the `spatial` property. To preview the various spatial functions available with a spatially enabled data frame object, place the cursor at the end of the line of code in the next cell, and press the `Tab` key:"
   ]
  },
  {
   "cell_type": "code",
   "execution_count": null,
   "metadata": {},
   "outputs": [],
   "source": [
    "sedf.spatial."
   ]
  },
  {
   "cell_type": "markdown",
   "metadata": {},
   "source": [
    "Depending on what other Python modules you need to use in your analysis, you may need to manipulate or prepare your data in different ways.  For example, you may need to represent your data as a simple text representation of GeoJSON.  Do do this, you can execute the following two lines to convert the spatially enabled data frame to a `FeatureSet` object (from the `arcgis.features` module).  A `FeatureSet` object provides a property that converts its contents to GeoJSON text format:"
   ]
  },
  {
   "cell_type": "code",
   "execution_count": null,
   "metadata": {},
   "outputs": [],
   "source": [
    "station_fset = sedf.spatial.to_featureset()\n",
    "station_json = station_fset.to_geojson"
   ]
  },
  {
   "cell_type": "code",
   "execution_count": null,
   "metadata": {},
   "outputs": [],
   "source": [
    "station_fset"
   ]
  },
  {
   "cell_type": "markdown",
   "metadata": {},
   "source": [
    "Some of the capabilities for working with spatially enabled data frame objects will be explored in more detail one of the later notebooks of this tutorial.\n",
    "\n",
    "#### Exporting GIS datasets\n",
    "\n",
    "When you are finished performing analysis in your notebook, you will likely want to save your results to datasets that can be used in other contexts, or shared to others.\n",
    "\n",
    "For example, to save your data to a new feature class in your local filesystem, you can easily excute the `to_featureclass` function.\n",
    "\n",
    "Alternatively, you can publish your data directly to your ArcgGIS Online or ArcGIS Enterprise content as a new feature layer, enabling you to use it in ArcGIS web maps, story maps, dashboards, etc.:"
   ]
  },
  {
   "cell_type": "code",
   "execution_count": null,
   "metadata": {},
   "outputs": [],
   "source": [
    "feature_layer = sedf.spatial.to_featurelayer(\"analysis_locations\")"
   ]
  },
  {
   "cell_type": "code",
   "execution_count": null,
   "metadata": {},
   "outputs": [],
   "source": [
    "feature_layer"
   ]
  },
  {
   "cell_type": "markdown",
   "metadata": {},
   "source": [
    "### Create a map widget for displaying station locations\n",
    "\n",
    "One advantage of using SEDFs is the ability to plot the data in an interactive [map widget](https://developers.arcgis.com/python/guide/using-the-map-widget/). This can be a handy way of viewing the data. If you click a feature on the map, you will get a popup of the data for that fature (row) from the other fields in the SEDF.\n",
    "\n",
    "The map widget can be configured for a particular area, zoom level, size on the page, and can be centered on a point. Here, we will set the center of the map widget to the centroid of the spatial extent of the data in the SEDF. "
   ]
  },
  {
   "cell_type": "code",
   "execution_count": null,
   "metadata": {},
   "outputs": [],
   "source": [
    "# Get bounding box and calculate centroid\n",
    "sedf_geoextent_geom = sedf.spatial.bbox\n",
    "centroid = sedf_geoextent_geom.centroid"
   ]
  },
  {
   "cell_type": "code",
   "execution_count": null,
   "metadata": {},
   "outputs": [],
   "source": [
    "# Passing a place name to the constructor will initialize the extent of the map.\n",
    "m1 = gis.map('India', zoomlevel=6)\n",
    "\n",
    "# Change the size of the map widget\n",
    "m1.layout = Layout(flex='1 1', padding='0px', height='600px')\n",
    "\n",
    "# Plot the SEDF on the map\n",
    "sedf.spatial.plot(map_widget=m1)\n",
    "\n",
    "# Zoom to the layer\n",
    "m1.zoom_to_layer(sedf)\n",
    "\n",
    "# Specify map center point. Must reverse coordinate order here\n",
    "m1.center = centroid[::-1]     \n",
    "\n",
    "# Plot the map\n",
    "m1"
   ]
  },
  {
   "cell_type": "markdown",
   "metadata": {},
   "source": [
    "Click on some of the points in the map widget to see the data available from the DataFrame."
   ]
  },
  {
   "cell_type": "markdown",
   "metadata": {},
   "source": [
    "### Add useful layers to the map from ArcGIS Online\n",
    "\n",
    "We will create the same map widget as before, but add a [layer](https://www.arcgis.com/home/item.html?id=9f86716d941c4410b0b406d911754b2c) from ArcGIS Online.\n",
    "\n",
    "Other customizations you may wish to make could be the basemap drawn under your data on the map widget. You can find a list of available basemaps by calling the `gis.map().basemaps` function."
   ]
  },
  {
   "cell_type": "code",
   "execution_count": null,
   "metadata": {},
   "outputs": [],
   "source": [
    "# Add world hydro reference overlay: \n",
    "item = gis.content.get(\"9f86716d941c4410b0b406d911754b2c\")  # World Hydro Reference Overlay\n",
    "print(item.layers)"
   ]
  },
  {
   "cell_type": "code",
   "execution_count": null,
   "metadata": {},
   "outputs": [],
   "source": [
    "# Passing a place name to the constructor will initialize the extent of the map.\n",
    "m2 = gis.map('India', zoomlevel=12)\n",
    "\n",
    "m2.add_layer(item.layers[0])\n",
    "\n",
    "# Change the size of the map widget\n",
    "m2.layout = Layout(flex='1 1', padding='0px', height='600px')\n",
    "\n",
    "# Specify map center point. Must reverse coordinate order here    \n",
    "m2.center = [18.4571,73.7870] # here we are setting the map's center to NWA\n",
    "\n",
    "# Plot the map\n",
    "m2"
   ]
  },
  {
   "cell_type": "markdown",
   "metadata": {},
   "source": [
    "### You can use the ArcGIS API for Python to search for content in ArcGIS Online using the `.content.search` function\n",
    "\n",
    "There is a powerful [search](https://developers.arcgis.com/python/guide/accessing-and-creating-content/) function that can be used to find data. \n",
    "\n",
    "First, you can search using a string. This will default to searching your ArcGIS Online Organization. Set `outside_org=True` to search all of ArcGIS Online."
   ]
  },
  {
   "cell_type": "code",
   "execution_count": null,
   "metadata": {},
   "outputs": [],
   "source": [
    "search_items = gis.content.search(\"GEOGLOWS\", outside_org=True)\n",
    "for search_item in search_items:\n",
    "    print(search_item)"
   ]
  },
  {
   "cell_type": "markdown",
   "metadata": {},
   "source": [
    "Next, you can display one or more search results in the cell output, which will render a card with information and links to the URL for the service."
   ]
  },
  {
   "cell_type": "code",
   "execution_count": null,
   "metadata": {},
   "outputs": [],
   "source": [
    "display(search_items[0])"
   ]
  },
  {
   "cell_type": "markdown",
   "metadata": {},
   "source": [
    "You can obtain the ID for the item from the search result and store the item number as a variable or obtain the item directly using the item's ArcGIS Online ID using the `.get` method."
   ]
  },
  {
   "cell_type": "code",
   "execution_count": null,
   "metadata": {},
   "outputs": [],
   "source": [
    "# Obtain ID for the desired Layer from search results\n",
    "known_item_id = search_items[0].id                     # Request ID from search results. \"5c2e6d2137bb4d2187db387979db2f31\"\n",
    "print('Item ID: {0}'.format(known_item_id))\n",
    "\n",
    "# lets use the get() to access this item\n",
    "online_item = gis.content.get(known_item_id)\n",
    "online_item"
   ]
  },
  {
   "cell_type": "markdown",
   "metadata": {},
   "source": [
    "Users may also call the URL dircely as input to a function that will construct a `FeauteLayerCollection`"
   ]
  },
  {
   "cell_type": "code",
   "execution_count": null,
   "metadata": {},
   "outputs": [],
   "source": [
    "from arcgis.features import FeatureLayerCollection\n",
    "\n",
    "# URL for the ArcGIS Feature Service of GeoGLOWs data\n",
    "geoglows_url = r'https://livefeeds2.arcgis.com/arcgis/rest/services/GEOGLOWS/GlobalWaterModel_Medium/MapServer'\n",
    "geoglows = FeatureLayerCollection(geoglows_url)\n",
    "\n",
    "# Get Layer names from feature layer collection\n",
    "geoglows_layer_names = [layer.properties.name for layer in geoglows.layers]\n",
    "print(\"Layer Names in Feature Layer Collection: {0}\".format(geoglows_layer_names))\n",
    "\n",
    "# Print URL for Feature Layer\n",
    "geoglows.layers[0]"
   ]
  },
  {
   "cell_type": "code",
   "execution_count": null,
   "metadata": {},
   "outputs": [],
   "source": [
    "# Passing a place name to the constructor will initialize the extent of the map.\n",
    "m3 = gis.map('India', zoomlevel=12)\n",
    "    \n",
    "# Add layer if it returns a valid HTTP code\n",
    "if gis.content.check_url(geoglows_url)['httpStatusCode']==200:\n",
    "    m3.add_layer(geoglows.layers[0])\n",
    "    \n",
    "# Change the size of the map widget. Limit the size to get the feature layer to draw some features quickly.\n",
    "m3.layout = Layout(flex='1 1', padding='0px', height='400px', width='800px')\n",
    "\n",
    "# Specify map center point. Must reverse coordinate order here\n",
    "m3.center = [18.4571,73.7870] # here we are setting the map's center to NWA\n",
    "\n",
    "# Set a particular basemap\n",
    "m3.basemap = 'gray-vector'\n",
    "\n",
    "# Plot the map\n",
    "m3"
   ]
  },
  {
   "cell_type": "markdown",
   "metadata": {},
   "source": [
    "### Add layers to a map within ArcGIS Pro\n",
    "\n",
    "You may want to add a layer from ArcGIS Online or another GIS Feature Service to your ArcGIS Pro active map session. To accomplish this, instead of creating a map widget, we will add the layer into one of our ArcGIS Pro maps.\n",
    "\n",
    "In order to do this, we will use the `MakeFeatureLayer_management` tool in `arcpy`, which is a geosprocessing tool and automatically adds the results as a layer in the active map. However, we will want to make sure \n",
    "to add this map to a specific map in our ArcGIS Pro project. The code below will make a feature layer using the URL of the GeoGLOWS feature service, and then if it does not already exist in the GeoGLOWS map in \n",
    "this ArcGIS Pro session, it will add the layer using the ArcGIS API for Python `addLayer` syntax."
   ]
  },
  {
   "cell_type": "code",
   "execution_count": null,
   "metadata": {},
   "outputs": [],
   "source": [
    "# Add the Feautre Service as a layer to the current map view\n",
    "from arcgis.features import FeatureLayer\n",
    "\n",
    "# To add the layer to the map, we must first make a feature layer\n",
    "arcpy.MakeFeatureLayer_management(geoglows.layers[0].url, geoglows_layer_names[0])\n",
    "\n",
    "# Get a list of map layers for the GeoGLOWS map\n",
    "m = aprx.listMaps(\"GeoGLOWS\")[0]\n",
    "map_layer_names = [layer.name for layer in m.listLayers()]\n",
    "\n",
    "if geoglows_layer_names[0] not in map_layer_names:\n",
    "    \n",
    "    # Add the already-existing layer to the current map view\n",
    "    m.addLayer(FeatureLayer(geoglows_layer_names[0], \"TOP\"))"
   ]
  },
  {
   "cell_type": "markdown",
   "metadata": {},
   "source": [
    "Now, we will pull in a layer of reservoirs from a known ArcGIS Online location."
   ]
  },
  {
   "cell_type": "code",
   "execution_count": null,
   "metadata": {},
   "outputs": [],
   "source": [
    "# India Reservoirs layer ID in Living Atlas\n",
    "CWC_Reservoirs = \"34b71f5ea24b49ce857e8ee5e71a4117\"\n",
    "item = gis.content.get(CWC_Reservoirs)\n",
    "item"
   ]
  },
  {
   "cell_type": "code",
   "execution_count": null,
   "metadata": {},
   "outputs": [],
   "source": [
    "# Add the Feautre Layer Collection as a layer to the current map view\n",
    "cwc_res_layer_names = [layer.properties.name for layer in item.layers]\n",
    "\n",
    "# To add the layer to the map, we must first make a feature layer\n",
    "arcpy.MakeFeatureLayer_management(item.url, cwc_res_layer_names[0])\n",
    "\n",
    "# Get a list of map layers for the GeoGLOWS map\n",
    "m = aprx.listMaps(\"GeoGLOWS\")[0]\n",
    "map_layer_names = [layer.name for layer in m.listLayers()]\n",
    "\n",
    "if cwc_res_layer_names[0] not in map_layer_names:\n",
    "    \n",
    "    # Add the already-existing layer to the current map view\n",
    "    m.addLayer(FeatureLayer(cwc_res_layer_names[0], \"TOP\"))"
   ]
  },
  {
   "cell_type": "markdown",
   "metadata": {},
   "source": [
    "### Examine the feature service in ArcGIS Pro\n",
    "\n",
    "You have added the GeoGLOWS forecast layer into your GEOWloWS map within ArcGIS Pro. This is a streafmlow forecast and is time-enabled. \n",
    "\n",
    "Click on the GEOGloWS map window and explore this data before saving the map document and moving to the next lesson."
   ]
  },
  {
   "cell_type": "code",
   "execution_count": null,
   "metadata": {},
   "outputs": [],
   "source": [
    "aprx.save()"
   ]
  },
  {
   "cell_type": "markdown",
   "metadata": {},
   "source": [
    "### Reset the namespace\n",
    "\n",
    "The following `%reset -f` command is a built-in command in Jupyter Notebook that will reset the namespace. This is good practice to run when you are finished with the notebook."
   ]
  },
  {
   "cell_type": "code",
   "execution_count": null,
   "metadata": {},
   "outputs": [],
   "source": [
    "%reset -f"
   ]
  },
  {
   "cell_type": "markdown",
   "metadata": {},
   "source": [
    "# Next up - Introduction to ArcGIS Notebooks\n",
    "\n",
    "This concludes Lesson **N2 - Visualize Station Data**. In the next lesson, we will learn more about using Python and ArcGIS Notebooks.\n",
    "\n",
    "**IT IS BEST TO EITHER SHUTDOWN THIS LESSON OR CLOSE IT BEFORE PROCEEDING TO THE NEXT LESSON TO AVOID POSSIBLY EXCEEDING ALLOCATED MEMORY. Select `Command Pallette -> restart kernel`.**\n",
    "\n",
    "© UCAR 2023"
   ]
  }
 ],
 "metadata": {
  "kernelspec": {
   "display_name": "ArcGISPro",
   "language": "Python",
   "name": "python3"
  },
  "language_info": {
   "file_extension": ".py",
   "name": "python",
   "version": "3"
  }
 },
 "nbformat": 4,
 "nbformat_minor": 4
}
